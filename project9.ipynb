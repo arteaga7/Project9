{
 "cells": [
  {
   "cell_type": "markdown",
   "metadata": {},
   "source": [
    "# Proyecto Sprint 9"
   ]
  },
  {
   "cell_type": "markdown",
   "metadata": {},
   "source": [
    "## Recolección y análisis exploratorio de los datos"
   ]
  },
  {
   "cell_type": "code",
   "execution_count": 163,
   "metadata": {},
   "outputs": [],
   "source": [
    "# Import libraries\n",
    "import numpy as np\n",
    "import pandas as pd\n",
    "from matplotlib import pyplot as plt\n",
    "import seaborn as sns"
   ]
  },
  {
   "cell_type": "code",
   "execution_count": 164,
   "metadata": {},
   "outputs": [],
   "source": [
    "# Read DataFrames\n",
    "visits = pd.read_csv('./visits_log_us.csv', sep=',', header=0)\n",
    "orders = pd.read_csv('./orders_log_us.csv', sep=',', header=0)\n",
    "costs = pd.read_csv('./costs_us.csv', sep=',', header=0)"
   ]
  },
  {
   "cell_type": "code",
   "execution_count": 165,
   "metadata": {},
   "outputs": [
    {
     "name": "stdout",
     "output_type": "stream",
     "text": [
      "<class 'pandas.core.frame.DataFrame'>\n",
      "RangeIndex: 359400 entries, 0 to 359399\n",
      "Data columns (total 5 columns):\n",
      " #   Column     Non-Null Count   Dtype \n",
      "---  ------     --------------   ----- \n",
      " 0   Device     359400 non-null  object\n",
      " 1   End Ts     359400 non-null  object\n",
      " 2   Source Id  359400 non-null  int64 \n",
      " 3   Start Ts   359400 non-null  object\n",
      " 4   Uid        359400 non-null  uint64\n",
      "dtypes: int64(1), object(3), uint64(1)\n",
      "memory usage: 13.7+ MB\n"
     ]
    }
   ],
   "source": [
    "# Overview of DataFrame\n",
    "visits.info()"
   ]
  },
  {
   "cell_type": "markdown",
   "metadata": {},
   "source": [
    "No hay valores nulos, sólo se cambiará el tipo de dato a las columnas relacionadas con fechas y se cambiará el nombre a algunas columnas."
   ]
  },
  {
   "cell_type": "code",
   "execution_count": 166,
   "metadata": {},
   "outputs": [],
   "source": [
    "# Change columns names\n",
    "visits.columns = ['device','end_ts','source_id','start_ts','uid']\n",
    "# Change columns type\n",
    "visits['end_ts'] = pd.to_datetime(visits['end_ts'])\n",
    "visits['start_ts'] = pd.to_datetime(visits['start_ts'])"
   ]
  },
  {
   "cell_type": "code",
   "execution_count": 167,
   "metadata": {},
   "outputs": [
    {
     "name": "stdout",
     "output_type": "stream",
     "text": [
      "    device              end_ts  source_id            start_ts  \\\n",
      "0    touch 2017-12-20 17:38:00          4 2017-12-20 17:20:00   \n",
      "1  desktop 2018-02-19 17:21:00          2 2018-02-19 16:53:00   \n",
      "2    touch 2017-07-01 01:54:00          5 2017-07-01 01:54:00   \n",
      "\n",
      "                    uid  \n",
      "0  16879256277535980062  \n",
      "1    104060357244891740  \n",
      "2   7459035603376831527  \n"
     ]
    }
   ],
   "source": [
    "print(visits.head(3))"
   ]
  },
  {
   "cell_type": "markdown",
   "metadata": {},
   "source": [
    "Se eliminarán filas duplicas (si las hay) con respecto a las columnas 'device','start_ts','uid'."
   ]
  },
  {
   "cell_type": "code",
   "execution_count": 168,
   "metadata": {},
   "outputs": [
    {
     "data": {
      "text/plain": [
       "0"
      ]
     },
     "execution_count": 168,
     "metadata": {},
     "output_type": "execute_result"
    }
   ],
   "source": [
    "# Delete duplicated rows considering a few columns\n",
    "visits = visits.drop_duplicates(subset=['device','start_ts','uid']).reset_index(drop=True)\n",
    "# Show duplicated rows\n",
    "visits[['device','start_ts','uid']].duplicated().sum()"
   ]
  },
  {
   "cell_type": "markdown",
   "metadata": {},
   "source": [
    "El proceso anterior se aplicará a los DataFrames 'orders' y 'costs'."
   ]
  },
  {
   "cell_type": "code",
   "execution_count": 169,
   "metadata": {},
   "outputs": [
    {
     "name": "stdout",
     "output_type": "stream",
     "text": [
      "<class 'pandas.core.frame.DataFrame'>\n",
      "RangeIndex: 50415 entries, 0 to 50414\n",
      "Data columns (total 3 columns):\n",
      " #   Column   Non-Null Count  Dtype  \n",
      "---  ------   --------------  -----  \n",
      " 0   Buy Ts   50415 non-null  object \n",
      " 1   Revenue  50415 non-null  float64\n",
      " 2   Uid      50415 non-null  uint64 \n",
      "dtypes: float64(1), object(1), uint64(1)\n",
      "memory usage: 1.2+ MB\n"
     ]
    }
   ],
   "source": [
    "# Overview of DataFrame\n",
    "orders.info()"
   ]
  },
  {
   "cell_type": "markdown",
   "metadata": {},
   "source": [
    "No hay valores nulos, sólo se cambiará el tipo de dato a las columnas relacionadas con fechas y se cambiará el nombre a algunas columnas."
   ]
  },
  {
   "cell_type": "code",
   "execution_count": 170,
   "metadata": {},
   "outputs": [],
   "source": [
    "# Change columns names\n",
    "orders.columns = ['order_ts','revenue','uid']\n",
    "# Change column type\n",
    "orders['order_ts'] = pd.to_datetime(orders['order_ts'])"
   ]
  },
  {
   "cell_type": "code",
   "execution_count": 171,
   "metadata": {},
   "outputs": [
    {
     "name": "stdout",
     "output_type": "stream",
     "text": [
      "             order_ts  revenue                   uid\n",
      "0 2017-06-01 00:10:00    17.00  10329302124590727494\n",
      "1 2017-06-01 00:25:00     0.55  11627257723692907447\n",
      "2 2017-06-01 00:27:00     0.37  17903680561304213844\n"
     ]
    }
   ],
   "source": [
    "print(orders.head(3))"
   ]
  },
  {
   "cell_type": "markdown",
   "metadata": {},
   "source": [
    "Eliminando filas duplicadas (si las hay)."
   ]
  },
  {
   "cell_type": "code",
   "execution_count": 172,
   "metadata": {},
   "outputs": [
    {
     "data": {
      "text/plain": [
       "0"
      ]
     },
     "execution_count": 172,
     "metadata": {},
     "output_type": "execute_result"
    }
   ],
   "source": [
    "# Delete duplicated rows\n",
    "orders = orders.drop_duplicates().reset_index(drop=True)\n",
    "# Show duplicated rows\n",
    "orders.duplicated().sum()"
   ]
  },
  {
   "cell_type": "code",
   "execution_count": 173,
   "metadata": {},
   "outputs": [
    {
     "name": "stdout",
     "output_type": "stream",
     "text": [
      "<class 'pandas.core.frame.DataFrame'>\n",
      "RangeIndex: 2542 entries, 0 to 2541\n",
      "Data columns (total 3 columns):\n",
      " #   Column     Non-Null Count  Dtype  \n",
      "---  ------     --------------  -----  \n",
      " 0   source_id  2542 non-null   int64  \n",
      " 1   dt         2542 non-null   object \n",
      " 2   costs      2542 non-null   float64\n",
      "dtypes: float64(1), int64(1), object(1)\n",
      "memory usage: 59.7+ KB\n"
     ]
    }
   ],
   "source": [
    "# DataFrame information\n",
    "costs.info()"
   ]
  },
  {
   "cell_type": "markdown",
   "metadata": {},
   "source": [
    "No hay valores nulos, sólo se cambiará el tipo de dato a las columnas relacionadas con fechas y se cambiará el nombre a algunas columnas."
   ]
  },
  {
   "cell_type": "code",
   "execution_count": 174,
   "metadata": {},
   "outputs": [],
   "source": [
    "# Change columns names\n",
    "costs.columns = ['source_id','date','costs']\n",
    "# Change column type\n",
    "costs['date'] = pd.to_datetime(costs['date'])"
   ]
  },
  {
   "cell_type": "code",
   "execution_count": 175,
   "metadata": {},
   "outputs": [
    {
     "name": "stdout",
     "output_type": "stream",
     "text": [
      "   source_id       date  costs\n",
      "0          1 2017-06-01  75.20\n",
      "1          1 2017-06-02  62.25\n",
      "2          1 2017-06-03  36.53\n"
     ]
    }
   ],
   "source": [
    "print(costs.head(3))"
   ]
  },
  {
   "cell_type": "markdown",
   "metadata": {},
   "source": [
    "Eliminando filas duplicadas (si las hay)."
   ]
  },
  {
   "cell_type": "code",
   "execution_count": 176,
   "metadata": {},
   "outputs": [
    {
     "data": {
      "text/plain": [
       "0"
      ]
     },
     "execution_count": 176,
     "metadata": {},
     "output_type": "execute_result"
    }
   ],
   "source": [
    "# Delete duplicated rows\n",
    "costs = costs.drop_duplicates().reset_index(drop=True)\n",
    "# Show duplicated rows\n",
    "costs.duplicated().sum()"
   ]
  },
  {
   "cell_type": "markdown",
   "metadata": {},
   "source": [
    "## Informes y métricas"
   ]
  },
  {
   "cell_type": "markdown",
   "metadata": {},
   "source": [
    "### 1. Visitas"
   ]
  },
  {
   "cell_type": "markdown",
   "metadata": {},
   "source": [
    "Para calcular la actividad diaria, semanal y mensual, primero crearemos columnas separadas para los valores de año, mes, semana y día."
   ]
  },
  {
   "cell_type": "code",
   "execution_count": 177,
   "metadata": {},
   "outputs": [],
   "source": [
    "# Create new columns for dates\n",
    "visits['year'] = visits['start_ts'].dt.isocalendar().year\n",
    "visits['month'] = visits['start_ts'].dt.month\n",
    "visits['week'] = visits['start_ts'].dt.isocalendar().week\n",
    "visits['date'] = visits['start_ts'].dt.date"
   ]
  },
  {
   "cell_type": "code",
   "execution_count": 178,
   "metadata": {},
   "outputs": [
    {
     "data": {
      "text/html": [
       "<div>\n",
       "<style scoped>\n",
       "    .dataframe tbody tr th:only-of-type {\n",
       "        vertical-align: middle;\n",
       "    }\n",
       "\n",
       "    .dataframe tbody tr th {\n",
       "        vertical-align: top;\n",
       "    }\n",
       "\n",
       "    .dataframe thead th {\n",
       "        text-align: right;\n",
       "    }\n",
       "</style>\n",
       "<table border=\"1\" class=\"dataframe\">\n",
       "  <thead>\n",
       "    <tr style=\"text-align: right;\">\n",
       "      <th></th>\n",
       "      <th>device</th>\n",
       "      <th>end_ts</th>\n",
       "      <th>source_id</th>\n",
       "      <th>start_ts</th>\n",
       "      <th>uid</th>\n",
       "      <th>year</th>\n",
       "      <th>month</th>\n",
       "      <th>week</th>\n",
       "      <th>date</th>\n",
       "    </tr>\n",
       "  </thead>\n",
       "  <tbody>\n",
       "    <tr>\n",
       "      <th>0</th>\n",
       "      <td>touch</td>\n",
       "      <td>2017-12-20 17:38:00</td>\n",
       "      <td>4</td>\n",
       "      <td>2017-12-20 17:20:00</td>\n",
       "      <td>16879256277535980062</td>\n",
       "      <td>2017</td>\n",
       "      <td>12</td>\n",
       "      <td>51</td>\n",
       "      <td>2017-12-20</td>\n",
       "    </tr>\n",
       "    <tr>\n",
       "      <th>1</th>\n",
       "      <td>desktop</td>\n",
       "      <td>2018-02-19 17:21:00</td>\n",
       "      <td>2</td>\n",
       "      <td>2018-02-19 16:53:00</td>\n",
       "      <td>104060357244891740</td>\n",
       "      <td>2018</td>\n",
       "      <td>2</td>\n",
       "      <td>8</td>\n",
       "      <td>2018-02-19</td>\n",
       "    </tr>\n",
       "    <tr>\n",
       "      <th>2</th>\n",
       "      <td>touch</td>\n",
       "      <td>2017-07-01 01:54:00</td>\n",
       "      <td>5</td>\n",
       "      <td>2017-07-01 01:54:00</td>\n",
       "      <td>7459035603376831527</td>\n",
       "      <td>2017</td>\n",
       "      <td>7</td>\n",
       "      <td>26</td>\n",
       "      <td>2017-07-01</td>\n",
       "    </tr>\n",
       "  </tbody>\n",
       "</table>\n",
       "</div>"
      ],
      "text/plain": [
       "    device              end_ts  source_id            start_ts  \\\n",
       "0    touch 2017-12-20 17:38:00          4 2017-12-20 17:20:00   \n",
       "1  desktop 2018-02-19 17:21:00          2 2018-02-19 16:53:00   \n",
       "2    touch 2017-07-01 01:54:00          5 2017-07-01 01:54:00   \n",
       "\n",
       "                    uid  year  month  week        date  \n",
       "0  16879256277535980062  2017     12    51  2017-12-20  \n",
       "1    104060357244891740  2018      2     8  2018-02-19  \n",
       "2   7459035603376831527  2017      7    26  2017-07-01  "
      ]
     },
     "execution_count": 178,
     "metadata": {},
     "output_type": "execute_result"
    }
   ],
   "source": [
    "visits.head(3)"
   ]
  },
  {
   "cell_type": "markdown",
   "metadata": {},
   "source": [
    "#### a. ¿Cuántas personas lo usan cada día, semana y mes?"
   ]
  },
  {
   "cell_type": "code",
   "execution_count": 179,
   "metadata": {},
   "outputs": [],
   "source": [
    "# Group by date and calculate the mean number of unique users\n",
    "dau = visits.groupby('date').agg({'uid':'nunique'}).mean()\n",
    "wau = visits.groupby(['year','week']).agg({'uid':'nunique'}).mean()\n",
    "mau = visits.groupby(['year','month']).agg({'uid':'nunique'}).mean()\n",
    "yau = visits.groupby('year').agg({'uid':'nunique'}).mean()"
   ]
  },
  {
   "cell_type": "markdown",
   "metadata": {},
   "source": [
    "Usuarios activos (en promedio) al dia, a la semana, al mes y al año son respectivamente:"
   ]
  },
  {
   "cell_type": "code",
   "execution_count": 180,
   "metadata": {},
   "outputs": [
    {
     "name": "stdout",
     "output_type": "stream",
     "text": [
      "907, 5716, 23228 y 122156.\n"
     ]
    }
   ],
   "source": [
    "# Obtain DAU, WAU, MAU, and YAU\n",
    "print(f\"{int(dau.iloc[0])}, {int(wau.iloc[0])}, {int(mau.iloc[0])} y {int(yau.iloc[0])}.\")"
   ]
  },
  {
   "cell_type": "markdown",
   "metadata": {},
   "source": [
    "#### b. ¿Cuántas sesiones hay por día? (Un usuario puede tener más de una sesión)."
   ]
  },
  {
   "cell_type": "code",
   "execution_count": 181,
   "metadata": {},
   "outputs": [],
   "source": [
    "# Obtain sessions per day\n",
    "sessions_per_user = visits.groupby('date').agg({'uid':['count','nunique']})\n",
    "sessions_per_user.columns = ['n_sessions','n_users']\n",
    "\n",
    "sessions_per_user['sessions_per_user'] = sessions_per_user['n_sessions'] / sessions_per_user['n_users']"
   ]
  },
  {
   "cell_type": "markdown",
   "metadata": {},
   "source": [
    "Las sesiones por usuario por dia son:"
   ]
  },
  {
   "cell_type": "code",
   "execution_count": 182,
   "metadata": {},
   "outputs": [
    {
     "data": {
      "text/plain": [
       "date\n",
       "2017-06-01    1.097521\n",
       "2017-06-02    1.082237\n",
       "2017-06-03    1.071910\n",
       "2017-06-04    1.071429\n",
       "2017-06-05    1.089024\n",
       "Name: sessions_per_user, dtype: float64"
      ]
     },
     "execution_count": 182,
     "metadata": {},
     "output_type": "execute_result"
    }
   ],
   "source": [
    "sessions_per_user['sessions_per_user'].head(5)"
   ]
  },
  {
   "cell_type": "markdown",
   "metadata": {},
   "source": [
    "#### c. ¿Cuál es la duración de cada sesión?"
   ]
  },
  {
   "cell_type": "code",
   "execution_count": 183,
   "metadata": {},
   "outputs": [
    {
     "data": {
      "image/png": "[encoded data removed]",
      "text/plain": [
       "<Figure size 640x480 with 1 Axes>"
      ]
     },
     "metadata": {},
     "output_type": "display_data"
    }
   ],
   "source": [
    "# Create a new column with the duration of sessions\n",
    "visits['duration_sec'] = (visits['end_ts'] - visits['start_ts']).dt.seconds\n",
    "\n",
    "# Plot a histogram to see the data distribution\n",
    "visits['duration_sec'].hist(bins=20)\n",
    "plt.show()"
   ]
  },
  {
   "cell_type": "markdown",
   "metadata": {},
   "source": [
    "Dado que la distribución de los datos no es una distribución normal o casi normal, no se puede usar la media ni la mediana, se usa la moda. Entonces la duración en segundos de cada sesión en promedio es:"
   ]
  },
  {
   "cell_type": "code",
   "execution_count": 184,
   "metadata": {},
   "outputs": [
    {
     "name": "stdout",
     "output_type": "stream",
     "text": [
      "60\n"
     ]
    }
   ],
   "source": [
    "# Show the mode of the duration\n",
    "print(visits['duration_sec'].mode().iloc[0])"
   ]
  },
  {
   "cell_type": "markdown",
   "metadata": {},
   "source": [
    "#### d. ¿Con qué frecuencia los usuarios regresan?"
   ]
  },
  {
   "cell_type": "markdown",
   "metadata": {},
   "source": [
    "Para medir la frecuencia de los usuarios al regresar a la app, se tiene el sticky factor = DAU/WAU o sticky factor = DAU/MAU. De modo que la frecuencia de los usuarios al regresar a la app a la semana y al mes son respectivamente:"
   ]
  },
  {
   "cell_type": "code",
   "execution_count": 185,
   "metadata": {},
   "outputs": [
    {
     "name": "stdout",
     "output_type": "stream",
     "text": [
      "15.88% y 3.91%.\n"
     ]
    }
   ],
   "source": [
    "# Sticky factor\n",
    "sticky_factor1 = dau/wau*100\n",
    "sticky_factor2 = dau/mau*100\n",
    "print(f\"{sticky_factor1.iloc[0]:.2f}% y {sticky_factor2.iloc[0]:.2f}%.\")"
   ]
  },
  {
   "cell_type": "markdown",
   "metadata": {},
   "source": [
    "### 2. Ventas"
   ]
  },
  {
   "cell_type": "markdown",
   "metadata": {},
   "source": [
    "#### a. ¿Cuándo comienza la gente a comprar?"
   ]
  },
  {
   "cell_type": "markdown",
   "metadata": {},
   "source": [
    "Se crearán 2 nuevos DataFrames después combinar DataFrames."
   ]
  },
  {
   "cell_type": "code",
   "execution_count": 186,
   "metadata": {},
   "outputs": [
    {
     "name": "stdout",
     "output_type": "stream",
     "text": [
      "order_ts    0\n",
      "uid         0\n",
      "device      0\n",
      "end_ts      0\n",
      "start_ts    0\n",
      "dtype: int64\n"
     ]
    }
   ],
   "source": [
    "# Merge two DataFrames\n",
    "orders_visits = pd.merge(orders,visits,on='uid')\n",
    "orders_visits = orders_visits[['order_ts','uid','device','end_ts','start_ts']]\n",
    "\n",
    "# Condition\n",
    "orders_buys = orders_visits[orders_visits['order_ts'] > orders_visits['start_ts']]\n",
    "\n",
    "# Verify if NaN values appeared when merging\n",
    "print(orders_buys.isna().sum())"
   ]
  },
  {
   "cell_type": "markdown",
   "metadata": {},
   "source": [
    "A continuación se obtiene el número de compras y el números de visitas totales repectivamente:"
   ]
  },
  {
   "cell_type": "code",
   "execution_count": 187,
   "metadata": {},
   "outputs": [
    {
     "name": "stdout",
     "output_type": "stream",
     "text": [
      "761807 y 390019\n"
     ]
    }
   ],
   "source": [
    "# Total number of visits and buys\n",
    "n_visits = orders_visits.shape[0]\n",
    "n_buys = orders_buys.shape[0]\n",
    "print(f\"{n_visits} y {n_buys}\")"
   ]
  },
  {
   "cell_type": "markdown",
   "metadata": {},
   "source": [
    "La tasa de conversión es de:"
   ]
  },
  {
   "cell_type": "code",
   "execution_count": 188,
   "metadata": {},
   "outputs": [
    {
     "name": "stdout",
     "output_type": "stream",
     "text": [
      "51.20%\n"
     ]
    }
   ],
   "source": [
    "# Conversion rate\n",
    "print(f\"{n_buys/n_visits*100:.2f}%\")"
   ]
  },
  {
   "cell_type": "markdown",
   "metadata": {},
   "source": [
    "#### b. ¿Cuántos pedidos hacen durante un período de tiempo dado?"
   ]
  },
  {
   "cell_type": "markdown",
   "metadata": {},
   "source": [
    "Se crearan 2 nuevas columnas para el año y mes de las compras."
   ]
  },
  {
   "cell_type": "code",
   "execution_count": 189,
   "metadata": {},
   "outputs": [],
   "source": [
    "# Copy DataFrame\n",
    "orders2 = orders.copy()\n",
    "# Create new columns for dates\n",
    "orders2['year'] = orders2['order_ts'].dt.isocalendar().year\n",
    "orders2['month'] = orders2['order_ts'].dt.month"
   ]
  },
  {
   "cell_type": "markdown",
   "metadata": {},
   "source": [
    "Se muestra el numero de pedidos por mes de cada año:"
   ]
  },
  {
   "cell_type": "code",
   "execution_count": 190,
   "metadata": {},
   "outputs": [
    {
     "name": "stdout",
     "output_type": "stream",
     "text": [
      "year  month\n",
      "2017  6        2354\n",
      "      7        2363\n",
      "      8        1807\n",
      "      9        3387\n",
      "      10       5679\n",
      "      11       5659\n",
      "      12       6218\n",
      "2018  1        4721\n",
      "      2        5281\n",
      "      3        5326\n",
      "Name: order_ts, dtype: int64\n"
     ]
    }
   ],
   "source": [
    "# Count number of orders by month of every year \n",
    "orders_by_month = orders2.groupby(['year','month'])['order_ts'].count()\n",
    "print(orders_by_month.head(10))"
   ]
  },
  {
   "cell_type": "markdown",
   "metadata": {},
   "source": [
    "#### c. ¿Cuál es el tamaño promedio de compra?"
   ]
  },
  {
   "cell_type": "markdown",
   "metadata": {},
   "source": [
    "A partir de aquí, los cálculos de esta sección se harán con respecto al primer mes de compra de los usuarios mes a mes (cohortes mensuales) y se usara el ciclo de vida de las cohortes, el cual muestra en qué mes ocurrió un evento respecto a la distancia desde el mes de la cohorte. Entonces se agrupa por usuarios y se obtiene el mes de su primer compra."
   ]
  },
  {
   "cell_type": "code",
   "execution_count": 191,
   "metadata": {},
   "outputs": [],
   "source": [
    "# Obtain the first buy date\n",
    "first_purchase_date = orders2.groupby('uid')['order_ts'].min()\n",
    "\n",
    "# Change Series name\n",
    "first_purchase_date.name = 'fisrt_order_month'"
   ]
  },
  {
   "cell_type": "code",
   "execution_count": 192,
   "metadata": {},
   "outputs": [
    {
     "name": "stdout",
     "output_type": "stream",
     "text": [
      "             order_ts  revenue                   uid  year  month  \\\n",
      "0 2017-06-01 00:10:00    17.00  10329302124590727494  2017      6   \n",
      "1 2017-06-01 00:25:00     0.55  11627257723692907447  2017      6   \n",
      "2 2017-06-01 00:27:00     0.37  17903680561304213844  2017      6   \n",
      "\n",
      "    fisrt_order_month  \n",
      "0 2017-06-01 00:10:00  \n",
      "1 2017-06-01 00:25:00  \n",
      "2 2017-06-01 00:27:00  \n"
     ]
    }
   ],
   "source": [
    "# Merge 'first_purchase_date' to 'orders'\n",
    "orders2 = orders2.join(first_purchase_date, on = 'uid')\n",
    "print(orders2.head(3))"
   ]
  },
  {
   "cell_type": "markdown",
   "metadata": {},
   "source": [
    "Se ha creado la columna que especifica la fecha de la primer compra por usuario. A continuación se creará una nueva columna 'purchase_month' para redondear la fecha a mes de la columna 'order_ts' con el metodo \".dt.to_period('M').dt.to_timestamp()\"."
   ]
  },
  {
   "cell_type": "code",
   "execution_count": 193,
   "metadata": {},
   "outputs": [
    {
     "name": "stdout",
     "output_type": "stream",
     "text": [
      "<class 'pandas.core.frame.DataFrame'>\n",
      "RangeIndex: 50415 entries, 0 to 50414\n",
      "Data columns (total 7 columns):\n",
      " #   Column             Non-Null Count  Dtype         \n",
      "---  ------             --------------  -----         \n",
      " 0   order_ts           50415 non-null  datetime64[ns]\n",
      " 1   revenue            50415 non-null  float64       \n",
      " 2   uid                50415 non-null  uint64        \n",
      " 3   year               50415 non-null  UInt32        \n",
      " 4   month              50415 non-null  int32         \n",
      " 5   fisrt_order_month  50415 non-null  datetime64[ns]\n",
      " 6   purchase_month     50415 non-null  datetime64[ns]\n",
      "dtypes: UInt32(1), datetime64[ns](3), float64(1), int32(1), uint64(1)\n",
      "memory usage: 2.4 MB\n"
     ]
    }
   ],
   "source": [
    "# Create new columns and trunc date to month\n",
    "orders2['purchase_month'] = orders2['order_ts'].dt.to_period('M').dt.to_timestamp()\n",
    "\n",
    "# Truncate 'fisrt_order_month' to month\n",
    "orders2['fisrt_order_month'] = orders2['fisrt_order_month'].dt.to_period('M').dt.to_timestamp()\n",
    "orders2.info()"
   ]
  },
  {
   "cell_type": "code",
   "execution_count": 194,
   "metadata": {},
   "outputs": [
    {
     "name": "stdout",
     "output_type": "stream",
     "text": [
      "             order_ts  revenue                   uid  year  month  \\\n",
      "0 2017-06-01 00:10:00    17.00  10329302124590727494  2017      6   \n",
      "1 2017-06-01 00:25:00     0.55  11627257723692907447  2017      6   \n",
      "2 2017-06-01 00:27:00     0.37  17903680561304213844  2017      6   \n",
      "\n",
      "  fisrt_order_month purchase_month  \n",
      "0        2017-06-01     2017-06-01  \n",
      "1        2017-06-01     2017-06-01  \n",
      "2        2017-06-01     2017-06-01  \n"
     ]
    }
   ],
   "source": [
    "print(orders2.head(3))"
   ]
  },
  {
   "cell_type": "markdown",
   "metadata": {},
   "source": [
    "**Nota:** Se tomará la fecha de la compra ('order_ts') como un identificador de compra para generar la nueva tabla 'orders_by_cohorts'. Se creará otro DataFrame para no alterar el DataFrame 'orders'."
   ]
  },
  {
   "cell_type": "code",
   "execution_count": 195,
   "metadata": {},
   "outputs": [
    {
     "name": "stdout",
     "output_type": "stream",
     "text": [
      "                                  order_ts   uid\n",
      "fisrt_order_month purchase_month                \n",
      "2017-06-01        2017-06-01          2245  2023\n",
      "                  2017-07-01           176    61\n",
      "                  2017-08-01           174    50\n",
      "                  2017-09-01           223    54\n",
      "                  2017-10-01           292    88\n"
     ]
    }
   ],
   "source": [
    "#Group by 'fisrt_order_month' and 'purchase_month'\n",
    "orders_by_cohorts = orders2.groupby(\n",
    "    ['fisrt_order_month','purchase_month']\n",
    ").agg({'order_ts':'nunique','uid':'nunique'})\n",
    "\n",
    "print(orders_by_cohorts.head())"
   ]
  },
  {
   "cell_type": "markdown",
   "metadata": {},
   "source": [
    "**Nota:** El DataFrame 'orders_by_cohorts' no tiene la columna 'revenue'. Por tal motivo en la siguiente pregunta se volvera a agrupar."
   ]
  },
  {
   "cell_type": "code",
   "execution_count": 196,
   "metadata": {},
   "outputs": [],
   "source": [
    "#Calculate orders per user\n",
    "orders_by_cohorts['orders_per_user'] = (\n",
    "    orders_by_cohorts['order_ts'] / orders_by_cohorts['uid']\n",
    ")\n",
    "#Reset index\n",
    "orders_by_cohorts = orders_by_cohorts.reset_index()"
   ]
  },
  {
   "cell_type": "markdown",
   "metadata": {},
   "source": [
    "Así obtenemos el tamaño de compra promedio por usuario para cada mes (sin considerar el ciclo de vida de las cohortes)."
   ]
  },
  {
   "cell_type": "code",
   "execution_count": 197,
   "metadata": {},
   "outputs": [
    {
     "data": {
      "text/html": [
       "<div>\n",
       "<style scoped>\n",
       "    .dataframe tbody tr th:only-of-type {\n",
       "        vertical-align: middle;\n",
       "    }\n",
       "\n",
       "    .dataframe tbody tr th {\n",
       "        vertical-align: top;\n",
       "    }\n",
       "\n",
       "    .dataframe thead th {\n",
       "        text-align: right;\n",
       "    }\n",
       "</style>\n",
       "<table border=\"1\" class=\"dataframe\">\n",
       "  <thead>\n",
       "    <tr style=\"text-align: right;\">\n",
       "      <th>purchase_month</th>\n",
       "      <th>2017-06-01</th>\n",
       "      <th>2017-07-01</th>\n",
       "      <th>2017-08-01</th>\n",
       "      <th>2017-09-01</th>\n",
       "      <th>2017-10-01</th>\n",
       "      <th>2017-11-01</th>\n",
       "      <th>2017-12-01</th>\n",
       "      <th>2018-01-01</th>\n",
       "      <th>2018-02-01</th>\n",
       "      <th>2018-03-01</th>\n",
       "      <th>2018-04-01</th>\n",
       "      <th>2018-05-01</th>\n",
       "      <th>2018-06-01</th>\n",
       "    </tr>\n",
       "    <tr>\n",
       "      <th>fisrt_order_month</th>\n",
       "      <th></th>\n",
       "      <th></th>\n",
       "      <th></th>\n",
       "      <th></th>\n",
       "      <th></th>\n",
       "      <th></th>\n",
       "      <th></th>\n",
       "      <th></th>\n",
       "      <th></th>\n",
       "      <th></th>\n",
       "      <th></th>\n",
       "      <th></th>\n",
       "      <th></th>\n",
       "    </tr>\n",
       "  </thead>\n",
       "  <tbody>\n",
       "    <tr>\n",
       "      <th>2017-06-01</th>\n",
       "      <td>1.109738</td>\n",
       "      <td>2.885246</td>\n",
       "      <td>3.480000</td>\n",
       "      <td>4.129630</td>\n",
       "      <td>3.318182</td>\n",
       "      <td>3.238806</td>\n",
       "      <td>4.435484</td>\n",
       "      <td>3.702128</td>\n",
       "      <td>3.655172</td>\n",
       "      <td>3.377778</td>\n",
       "      <td>2.133333</td>\n",
       "      <td>1.622642</td>\n",
       "      <td>NaN</td>\n",
       "    </tr>\n",
       "    <tr>\n",
       "      <th>2017-07-01</th>\n",
       "      <td>NaN</td>\n",
       "      <td>1.079563</td>\n",
       "      <td>1.923077</td>\n",
       "      <td>2.105263</td>\n",
       "      <td>1.609375</td>\n",
       "      <td>1.469388</td>\n",
       "      <td>2.157895</td>\n",
       "      <td>1.666667</td>\n",
       "      <td>1.256410</td>\n",
       "      <td>1.380952</td>\n",
       "      <td>1.090909</td>\n",
       "      <td>2.038462</td>\n",
       "      <td>NaN</td>\n",
       "    </tr>\n",
       "    <tr>\n",
       "      <th>2017-08-01</th>\n",
       "      <td>NaN</td>\n",
       "      <td>NaN</td>\n",
       "      <td>1.081022</td>\n",
       "      <td>1.844828</td>\n",
       "      <td>1.886792</td>\n",
       "      <td>1.818182</td>\n",
       "      <td>2.100000</td>\n",
       "      <td>1.937500</td>\n",
       "      <td>1.633333</td>\n",
       "      <td>1.772727</td>\n",
       "      <td>2.421053</td>\n",
       "      <td>1.483871</td>\n",
       "      <td>NaN</td>\n",
       "    </tr>\n",
       "    <tr>\n",
       "      <th>2017-09-01</th>\n",
       "      <td>NaN</td>\n",
       "      <td>NaN</td>\n",
       "      <td>NaN</td>\n",
       "      <td>1.079427</td>\n",
       "      <td>1.684615</td>\n",
       "      <td>1.600000</td>\n",
       "      <td>2.216216</td>\n",
       "      <td>1.288462</td>\n",
       "      <td>1.703125</td>\n",
       "      <td>1.636364</td>\n",
       "      <td>1.513514</td>\n",
       "      <td>1.418605</td>\n",
       "      <td>NaN</td>\n",
       "    </tr>\n",
       "    <tr>\n",
       "      <th>2017-10-01</th>\n",
       "      <td>NaN</td>\n",
       "      <td>NaN</td>\n",
       "      <td>NaN</td>\n",
       "      <td>NaN</td>\n",
       "      <td>1.044470</td>\n",
       "      <td>1.519417</td>\n",
       "      <td>1.317073</td>\n",
       "      <td>1.326087</td>\n",
       "      <td>1.387097</td>\n",
       "      <td>1.430556</td>\n",
       "      <td>1.535714</td>\n",
       "      <td>1.865672</td>\n",
       "      <td>NaN</td>\n",
       "    </tr>\n",
       "    <tr>\n",
       "      <th>2017-11-01</th>\n",
       "      <td>NaN</td>\n",
       "      <td>NaN</td>\n",
       "      <td>NaN</td>\n",
       "      <td>NaN</td>\n",
       "      <td>NaN</td>\n",
       "      <td>1.049743</td>\n",
       "      <td>1.756757</td>\n",
       "      <td>1.500000</td>\n",
       "      <td>1.981132</td>\n",
       "      <td>1.679012</td>\n",
       "      <td>1.229167</td>\n",
       "      <td>1.645161</td>\n",
       "      <td>NaN</td>\n",
       "    </tr>\n",
       "    <tr>\n",
       "      <th>2017-12-01</th>\n",
       "      <td>NaN</td>\n",
       "      <td>NaN</td>\n",
       "      <td>NaN</td>\n",
       "      <td>NaN</td>\n",
       "      <td>NaN</td>\n",
       "      <td>NaN</td>\n",
       "      <td>1.059092</td>\n",
       "      <td>1.842466</td>\n",
       "      <td>1.961165</td>\n",
       "      <td>1.845361</td>\n",
       "      <td>1.720000</td>\n",
       "      <td>1.666667</td>\n",
       "      <td>NaN</td>\n",
       "    </tr>\n",
       "    <tr>\n",
       "      <th>2018-01-01</th>\n",
       "      <td>NaN</td>\n",
       "      <td>NaN</td>\n",
       "      <td>NaN</td>\n",
       "      <td>NaN</td>\n",
       "      <td>NaN</td>\n",
       "      <td>NaN</td>\n",
       "      <td>NaN</td>\n",
       "      <td>1.051290</td>\n",
       "      <td>1.947368</td>\n",
       "      <td>1.915663</td>\n",
       "      <td>1.488372</td>\n",
       "      <td>1.733333</td>\n",
       "      <td>NaN</td>\n",
       "    </tr>\n",
       "    <tr>\n",
       "      <th>2018-02-01</th>\n",
       "      <td>NaN</td>\n",
       "      <td>NaN</td>\n",
       "      <td>NaN</td>\n",
       "      <td>NaN</td>\n",
       "      <td>NaN</td>\n",
       "      <td>NaN</td>\n",
       "      <td>NaN</td>\n",
       "      <td>NaN</td>\n",
       "      <td>1.032320</td>\n",
       "      <td>1.872881</td>\n",
       "      <td>1.431034</td>\n",
       "      <td>1.794872</td>\n",
       "      <td>NaN</td>\n",
       "    </tr>\n",
       "    <tr>\n",
       "      <th>2018-03-01</th>\n",
       "      <td>NaN</td>\n",
       "      <td>NaN</td>\n",
       "      <td>NaN</td>\n",
       "      <td>NaN</td>\n",
       "      <td>NaN</td>\n",
       "      <td>NaN</td>\n",
       "      <td>NaN</td>\n",
       "      <td>NaN</td>\n",
       "      <td>NaN</td>\n",
       "      <td>1.073309</td>\n",
       "      <td>1.977778</td>\n",
       "      <td>3.034483</td>\n",
       "      <td>NaN</td>\n",
       "    </tr>\n",
       "    <tr>\n",
       "      <th>2018-04-01</th>\n",
       "      <td>NaN</td>\n",
       "      <td>NaN</td>\n",
       "      <td>NaN</td>\n",
       "      <td>NaN</td>\n",
       "      <td>NaN</td>\n",
       "      <td>NaN</td>\n",
       "      <td>NaN</td>\n",
       "      <td>NaN</td>\n",
       "      <td>NaN</td>\n",
       "      <td>NaN</td>\n",
       "      <td>1.043497</td>\n",
       "      <td>2.826087</td>\n",
       "      <td>NaN</td>\n",
       "    </tr>\n",
       "    <tr>\n",
       "      <th>2018-05-01</th>\n",
       "      <td>NaN</td>\n",
       "      <td>NaN</td>\n",
       "      <td>NaN</td>\n",
       "      <td>NaN</td>\n",
       "      <td>NaN</td>\n",
       "      <td>NaN</td>\n",
       "      <td>NaN</td>\n",
       "      <td>NaN</td>\n",
       "      <td>NaN</td>\n",
       "      <td>NaN</td>\n",
       "      <td>NaN</td>\n",
       "      <td>0.984270</td>\n",
       "      <td>NaN</td>\n",
       "    </tr>\n",
       "    <tr>\n",
       "      <th>2018-06-01</th>\n",
       "      <td>NaN</td>\n",
       "      <td>NaN</td>\n",
       "      <td>NaN</td>\n",
       "      <td>NaN</td>\n",
       "      <td>NaN</td>\n",
       "      <td>NaN</td>\n",
       "      <td>NaN</td>\n",
       "      <td>NaN</td>\n",
       "      <td>NaN</td>\n",
       "      <td>NaN</td>\n",
       "      <td>NaN</td>\n",
       "      <td>NaN</td>\n",
       "      <td>1.0</td>\n",
       "    </tr>\n",
       "  </tbody>\n",
       "</table>\n",
       "</div>"
      ],
      "text/plain": [
       "purchase_month     2017-06-01  2017-07-01  2017-08-01  2017-09-01  2017-10-01  \\\n",
       "fisrt_order_month                                                               \n",
       "2017-06-01           1.109738    2.885246    3.480000    4.129630    3.318182   \n",
       "2017-07-01                NaN    1.079563    1.923077    2.105263    1.609375   \n",
       "2017-08-01                NaN         NaN    1.081022    1.844828    1.886792   \n",
       "2017-09-01                NaN         NaN         NaN    1.079427    1.684615   \n",
       "2017-10-01                NaN         NaN         NaN         NaN    1.044470   \n",
       "2017-11-01                NaN         NaN         NaN         NaN         NaN   \n",
       "2017-12-01                NaN         NaN         NaN         NaN         NaN   \n",
       "2018-01-01                NaN         NaN         NaN         NaN         NaN   \n",
       "2018-02-01                NaN         NaN         NaN         NaN         NaN   \n",
       "2018-03-01                NaN         NaN         NaN         NaN         NaN   \n",
       "2018-04-01                NaN         NaN         NaN         NaN         NaN   \n",
       "2018-05-01                NaN         NaN         NaN         NaN         NaN   \n",
       "2018-06-01                NaN         NaN         NaN         NaN         NaN   \n",
       "\n",
       "purchase_month     2017-11-01  2017-12-01  2018-01-01  2018-02-01  2018-03-01  \\\n",
       "fisrt_order_month                                                               \n",
       "2017-06-01           3.238806    4.435484    3.702128    3.655172    3.377778   \n",
       "2017-07-01           1.469388    2.157895    1.666667    1.256410    1.380952   \n",
       "2017-08-01           1.818182    2.100000    1.937500    1.633333    1.772727   \n",
       "2017-09-01           1.600000    2.216216    1.288462    1.703125    1.636364   \n",
       "2017-10-01           1.519417    1.317073    1.326087    1.387097    1.430556   \n",
       "2017-11-01           1.049743    1.756757    1.500000    1.981132    1.679012   \n",
       "2017-12-01                NaN    1.059092    1.842466    1.961165    1.845361   \n",
       "2018-01-01                NaN         NaN    1.051290    1.947368    1.915663   \n",
       "2018-02-01                NaN         NaN         NaN    1.032320    1.872881   \n",
       "2018-03-01                NaN         NaN         NaN         NaN    1.073309   \n",
       "2018-04-01                NaN         NaN         NaN         NaN         NaN   \n",
       "2018-05-01                NaN         NaN         NaN         NaN         NaN   \n",
       "2018-06-01                NaN         NaN         NaN         NaN         NaN   \n",
       "\n",
       "purchase_month     2018-04-01  2018-05-01  2018-06-01  \n",
       "fisrt_order_month                                      \n",
       "2017-06-01           2.133333    1.622642         NaN  \n",
       "2017-07-01           1.090909    2.038462         NaN  \n",
       "2017-08-01           2.421053    1.483871         NaN  \n",
       "2017-09-01           1.513514    1.418605         NaN  \n",
       "2017-10-01           1.535714    1.865672         NaN  \n",
       "2017-11-01           1.229167    1.645161         NaN  \n",
       "2017-12-01           1.720000    1.666667         NaN  \n",
       "2018-01-01           1.488372    1.733333         NaN  \n",
       "2018-02-01           1.431034    1.794872         NaN  \n",
       "2018-03-01           1.977778    3.034483         NaN  \n",
       "2018-04-01           1.043497    2.826087         NaN  \n",
       "2018-05-01                NaN    0.984270         NaN  \n",
       "2018-06-01                NaN         NaN         1.0  "
      ]
     },
     "execution_count": 197,
     "metadata": {},
     "output_type": "execute_result"
    }
   ],
   "source": [
    "orders_per_user_table = orders_by_cohorts.pivot_table(\n",
    "    index = 'fisrt_order_month', columns = 'purchase_month',\n",
    "    values = 'orders_per_user', aggfunc = 'mean'\n",
    ")\n",
    "orders_per_user_table"
   ]
  },
  {
   "cell_type": "markdown",
   "metadata": {},
   "source": [
    "Ahora se obtendrán los cambios en las compras por usuario en relación con el tiempo transcurrido desde la primera compra usando el ciclo de vida de la cohorte.\n",
    "\n",
    "Para encontrar el ciclo de vida de la cohorte, primero agrupamos por 'fisrt_order_month' y por 'purchase_month', luego, restaremos el mes de la cohorte (fisrt_order_month) del mes en que se realizaron las compras (purchase_month) y se guarda en la columna 'cohort_lifetime'. El metodo '.dt.to_period('M').dt.to_timestamp()' se usa para obtener los meses en una fecha. Finalmente, la columna 'cohort_lifetime' contendra el número entero de mese entre las fechas."
   ]
  },
  {
   "cell_type": "code",
   "execution_count": 198,
   "metadata": {},
   "outputs": [],
   "source": [
    "# Calculate 'chort_lifetime' in months\n",
    "orders_by_cohorts['chort_lifetime'] = orders_by_cohorts['purchase_month'].dt.to_period('M').astype(int) - orders_by_cohorts['fisrt_order_month'].dt.to_period('M').astype(int)\n",
    "\n",
    "# This line is not supported anymore in pandas 2.0\n",
    "#orders_by_cohorts['chort_lifetime'] = orders_by_cohorts['chort_lifetime'] / np.timedelta64('M')\n",
    "\n",
    "# Round column 'chort_lifetime'\n",
    "#orders_by_cohorts['chort_lifetime'] = orders_by_cohorts['chort_lifetime'].round().astype('int')"
   ]
  },
  {
   "cell_type": "markdown",
   "metadata": {},
   "source": [
    "Así obtenemos el tamaño de compra promedio por usuario para cada mes considerando el ciclo de vida de las cohortes."
   ]
  },
  {
   "cell_type": "code",
   "execution_count": 199,
   "metadata": {},
   "outputs": [
    {
     "data": {
      "text/html": [
       "<div>\n",
       "<style scoped>\n",
       "    .dataframe tbody tr th:only-of-type {\n",
       "        vertical-align: middle;\n",
       "    }\n",
       "\n",
       "    .dataframe tbody tr th {\n",
       "        vertical-align: top;\n",
       "    }\n",
       "\n",
       "    .dataframe thead th {\n",
       "        text-align: right;\n",
       "    }\n",
       "</style>\n",
       "<table border=\"1\" class=\"dataframe\">\n",
       "  <thead>\n",
       "    <tr style=\"text-align: right;\">\n",
       "      <th>chort_lifetime</th>\n",
       "      <th>0</th>\n",
       "      <th>1</th>\n",
       "      <th>2</th>\n",
       "      <th>3</th>\n",
       "      <th>4</th>\n",
       "      <th>5</th>\n",
       "      <th>6</th>\n",
       "      <th>7</th>\n",
       "      <th>8</th>\n",
       "      <th>9</th>\n",
       "      <th>10</th>\n",
       "      <th>11</th>\n",
       "    </tr>\n",
       "    <tr>\n",
       "      <th>fisrt_order_month</th>\n",
       "      <th></th>\n",
       "      <th></th>\n",
       "      <th></th>\n",
       "      <th></th>\n",
       "      <th></th>\n",
       "      <th></th>\n",
       "      <th></th>\n",
       "      <th></th>\n",
       "      <th></th>\n",
       "      <th></th>\n",
       "      <th></th>\n",
       "      <th></th>\n",
       "    </tr>\n",
       "  </thead>\n",
       "  <tbody>\n",
       "    <tr>\n",
       "      <th>2017-06-01</th>\n",
       "      <td>1.109738</td>\n",
       "      <td>2.885246</td>\n",
       "      <td>3.480000</td>\n",
       "      <td>4.129630</td>\n",
       "      <td>3.318182</td>\n",
       "      <td>3.238806</td>\n",
       "      <td>4.435484</td>\n",
       "      <td>3.702128</td>\n",
       "      <td>3.655172</td>\n",
       "      <td>3.377778</td>\n",
       "      <td>2.133333</td>\n",
       "      <td>1.622642</td>\n",
       "    </tr>\n",
       "    <tr>\n",
       "      <th>2017-07-01</th>\n",
       "      <td>1.079563</td>\n",
       "      <td>1.923077</td>\n",
       "      <td>2.105263</td>\n",
       "      <td>1.609375</td>\n",
       "      <td>1.469388</td>\n",
       "      <td>2.157895</td>\n",
       "      <td>1.666667</td>\n",
       "      <td>1.256410</td>\n",
       "      <td>1.380952</td>\n",
       "      <td>1.090909</td>\n",
       "      <td>2.038462</td>\n",
       "      <td>NaN</td>\n",
       "    </tr>\n",
       "    <tr>\n",
       "      <th>2017-08-01</th>\n",
       "      <td>1.081022</td>\n",
       "      <td>1.844828</td>\n",
       "      <td>1.886792</td>\n",
       "      <td>1.818182</td>\n",
       "      <td>2.100000</td>\n",
       "      <td>1.937500</td>\n",
       "      <td>1.633333</td>\n",
       "      <td>1.772727</td>\n",
       "      <td>2.421053</td>\n",
       "      <td>1.483871</td>\n",
       "      <td>NaN</td>\n",
       "      <td>NaN</td>\n",
       "    </tr>\n",
       "    <tr>\n",
       "      <th>2017-09-01</th>\n",
       "      <td>1.079427</td>\n",
       "      <td>1.684615</td>\n",
       "      <td>1.600000</td>\n",
       "      <td>2.216216</td>\n",
       "      <td>1.288462</td>\n",
       "      <td>1.703125</td>\n",
       "      <td>1.636364</td>\n",
       "      <td>1.513514</td>\n",
       "      <td>1.418605</td>\n",
       "      <td>NaN</td>\n",
       "      <td>NaN</td>\n",
       "      <td>NaN</td>\n",
       "    </tr>\n",
       "    <tr>\n",
       "      <th>2017-10-01</th>\n",
       "      <td>1.044470</td>\n",
       "      <td>1.519417</td>\n",
       "      <td>1.317073</td>\n",
       "      <td>1.326087</td>\n",
       "      <td>1.387097</td>\n",
       "      <td>1.430556</td>\n",
       "      <td>1.535714</td>\n",
       "      <td>1.865672</td>\n",
       "      <td>NaN</td>\n",
       "      <td>NaN</td>\n",
       "      <td>NaN</td>\n",
       "      <td>NaN</td>\n",
       "    </tr>\n",
       "    <tr>\n",
       "      <th>2017-11-01</th>\n",
       "      <td>1.049743</td>\n",
       "      <td>1.756757</td>\n",
       "      <td>1.500000</td>\n",
       "      <td>1.981132</td>\n",
       "      <td>1.679012</td>\n",
       "      <td>1.229167</td>\n",
       "      <td>1.645161</td>\n",
       "      <td>NaN</td>\n",
       "      <td>NaN</td>\n",
       "      <td>NaN</td>\n",
       "      <td>NaN</td>\n",
       "      <td>NaN</td>\n",
       "    </tr>\n",
       "    <tr>\n",
       "      <th>2017-12-01</th>\n",
       "      <td>1.059092</td>\n",
       "      <td>1.842466</td>\n",
       "      <td>1.961165</td>\n",
       "      <td>1.845361</td>\n",
       "      <td>1.720000</td>\n",
       "      <td>1.666667</td>\n",
       "      <td>NaN</td>\n",
       "      <td>NaN</td>\n",
       "      <td>NaN</td>\n",
       "      <td>NaN</td>\n",
       "      <td>NaN</td>\n",
       "      <td>NaN</td>\n",
       "    </tr>\n",
       "    <tr>\n",
       "      <th>2018-01-01</th>\n",
       "      <td>1.051290</td>\n",
       "      <td>1.947368</td>\n",
       "      <td>1.915663</td>\n",
       "      <td>1.488372</td>\n",
       "      <td>1.733333</td>\n",
       "      <td>NaN</td>\n",
       "      <td>NaN</td>\n",
       "      <td>NaN</td>\n",
       "      <td>NaN</td>\n",
       "      <td>NaN</td>\n",
       "      <td>NaN</td>\n",
       "      <td>NaN</td>\n",
       "    </tr>\n",
       "    <tr>\n",
       "      <th>2018-02-01</th>\n",
       "      <td>1.032320</td>\n",
       "      <td>1.872881</td>\n",
       "      <td>1.431034</td>\n",
       "      <td>1.794872</td>\n",
       "      <td>NaN</td>\n",
       "      <td>NaN</td>\n",
       "      <td>NaN</td>\n",
       "      <td>NaN</td>\n",
       "      <td>NaN</td>\n",
       "      <td>NaN</td>\n",
       "      <td>NaN</td>\n",
       "      <td>NaN</td>\n",
       "    </tr>\n",
       "    <tr>\n",
       "      <th>2018-03-01</th>\n",
       "      <td>1.073309</td>\n",
       "      <td>1.977778</td>\n",
       "      <td>3.034483</td>\n",
       "      <td>NaN</td>\n",
       "      <td>NaN</td>\n",
       "      <td>NaN</td>\n",
       "      <td>NaN</td>\n",
       "      <td>NaN</td>\n",
       "      <td>NaN</td>\n",
       "      <td>NaN</td>\n",
       "      <td>NaN</td>\n",
       "      <td>NaN</td>\n",
       "    </tr>\n",
       "    <tr>\n",
       "      <th>2018-04-01</th>\n",
       "      <td>1.043497</td>\n",
       "      <td>2.826087</td>\n",
       "      <td>NaN</td>\n",
       "      <td>NaN</td>\n",
       "      <td>NaN</td>\n",
       "      <td>NaN</td>\n",
       "      <td>NaN</td>\n",
       "      <td>NaN</td>\n",
       "      <td>NaN</td>\n",
       "      <td>NaN</td>\n",
       "      <td>NaN</td>\n",
       "      <td>NaN</td>\n",
       "    </tr>\n",
       "    <tr>\n",
       "      <th>2018-05-01</th>\n",
       "      <td>0.984270</td>\n",
       "      <td>NaN</td>\n",
       "      <td>NaN</td>\n",
       "      <td>NaN</td>\n",
       "      <td>NaN</td>\n",
       "      <td>NaN</td>\n",
       "      <td>NaN</td>\n",
       "      <td>NaN</td>\n",
       "      <td>NaN</td>\n",
       "      <td>NaN</td>\n",
       "      <td>NaN</td>\n",
       "      <td>NaN</td>\n",
       "    </tr>\n",
       "    <tr>\n",
       "      <th>2018-06-01</th>\n",
       "      <td>1.000000</td>\n",
       "      <td>NaN</td>\n",
       "      <td>NaN</td>\n",
       "      <td>NaN</td>\n",
       "      <td>NaN</td>\n",
       "      <td>NaN</td>\n",
       "      <td>NaN</td>\n",
       "      <td>NaN</td>\n",
       "      <td>NaN</td>\n",
       "      <td>NaN</td>\n",
       "      <td>NaN</td>\n",
       "      <td>NaN</td>\n",
       "    </tr>\n",
       "  </tbody>\n",
       "</table>\n",
       "</div>"
      ],
      "text/plain": [
       "chort_lifetime           0         1         2         3         4         5   \\\n",
       "fisrt_order_month                                                               \n",
       "2017-06-01         1.109738  2.885246  3.480000  4.129630  3.318182  3.238806   \n",
       "2017-07-01         1.079563  1.923077  2.105263  1.609375  1.469388  2.157895   \n",
       "2017-08-01         1.081022  1.844828  1.886792  1.818182  2.100000  1.937500   \n",
       "2017-09-01         1.079427  1.684615  1.600000  2.216216  1.288462  1.703125   \n",
       "2017-10-01         1.044470  1.519417  1.317073  1.326087  1.387097  1.430556   \n",
       "2017-11-01         1.049743  1.756757  1.500000  1.981132  1.679012  1.229167   \n",
       "2017-12-01         1.059092  1.842466  1.961165  1.845361  1.720000  1.666667   \n",
       "2018-01-01         1.051290  1.947368  1.915663  1.488372  1.733333       NaN   \n",
       "2018-02-01         1.032320  1.872881  1.431034  1.794872       NaN       NaN   \n",
       "2018-03-01         1.073309  1.977778  3.034483       NaN       NaN       NaN   \n",
       "2018-04-01         1.043497  2.826087       NaN       NaN       NaN       NaN   \n",
       "2018-05-01         0.984270       NaN       NaN       NaN       NaN       NaN   \n",
       "2018-06-01         1.000000       NaN       NaN       NaN       NaN       NaN   \n",
       "\n",
       "chort_lifetime           6         7         8         9         10        11  \n",
       "fisrt_order_month                                                              \n",
       "2017-06-01         4.435484  3.702128  3.655172  3.377778  2.133333  1.622642  \n",
       "2017-07-01         1.666667  1.256410  1.380952  1.090909  2.038462       NaN  \n",
       "2017-08-01         1.633333  1.772727  2.421053  1.483871       NaN       NaN  \n",
       "2017-09-01         1.636364  1.513514  1.418605       NaN       NaN       NaN  \n",
       "2017-10-01         1.535714  1.865672       NaN       NaN       NaN       NaN  \n",
       "2017-11-01         1.645161       NaN       NaN       NaN       NaN       NaN  \n",
       "2017-12-01              NaN       NaN       NaN       NaN       NaN       NaN  \n",
       "2018-01-01              NaN       NaN       NaN       NaN       NaN       NaN  \n",
       "2018-02-01              NaN       NaN       NaN       NaN       NaN       NaN  \n",
       "2018-03-01              NaN       NaN       NaN       NaN       NaN       NaN  \n",
       "2018-04-01              NaN       NaN       NaN       NaN       NaN       NaN  \n",
       "2018-05-01              NaN       NaN       NaN       NaN       NaN       NaN  \n",
       "2018-06-01              NaN       NaN       NaN       NaN       NaN       NaN  "
      ]
     },
     "execution_count": 199,
     "metadata": {},
     "output_type": "execute_result"
    }
   ],
   "source": [
    "lifetime_pivot = orders_by_cohorts.pivot_table(\n",
    "    index = 'fisrt_order_month', columns = 'chort_lifetime',\n",
    "    values = 'orders_per_user', aggfunc = 'mean'\n",
    ")\n",
    "lifetime_pivot"
   ]
  },
  {
   "cell_type": "markdown",
   "metadata": {},
   "source": [
    "A continuación se muestra la tabla anterior usando un mapa de calor."
   ]
  },
  {
   "cell_type": "code",
   "execution_count": 200,
   "metadata": {},
   "outputs": [
    {
     "data": {
      "image/png": "[encoded data removed]",
      "text/plain": [
       "<Figure size 1300x900 with 2 Axes>"
      ]
     },
     "metadata": {},
     "output_type": "display_data"
    }
   ],
   "source": [
    "plt.figure(figsize=(13,9))\n",
    "plt.title('Tamaño promedio de compra del cliente')\n",
    "sns.heatmap(\n",
    "    lifetime_pivot, annot=True, fmt='.2f', linewidths=1, linecolor='black'\n",
    ")\n",
    "plt.show()"
   ]
  },
  {
   "cell_type": "markdown",
   "metadata": {},
   "source": [
    "#### d. ¿Cuánto dinero traen? (LTV)"
   ]
  },
  {
   "cell_type": "markdown",
   "metadata": {},
   "source": [
    "**Nota:** Se asumirá un margen de ganancia del 50% y se usarán los ciclos de vida de las cohortes como en el inciso anterior.\n",
    "\n",
    "Se repetira un poco del proceso mostrado anteriormente. Se calcularán las cohortes por fecha de primer compra y ciclo de vida de las mismas. "
   ]
  },
  {
   "cell_type": "code",
   "execution_count": 201,
   "metadata": {},
   "outputs": [
    {
     "name": "stdout",
     "output_type": "stream",
     "text": [
      "                uid first_order_month\n",
      "0   313578113262317        2018-01-01\n",
      "1  1575281904278712        2017-06-01\n",
      "2  2429014661409475        2017-10-01\n"
     ]
    }
   ],
   "source": [
    "# Create new column of type 'datetime'\n",
    "orders['order_month'] = orders['order_ts'].dt.to_period('M').dt.to_timestamp()\n",
    "\n",
    "# Obtain first order month\n",
    "first_orders = orders.groupby('uid').agg({'order_month':'min'}).reset_index()\n",
    "first_orders.columns = ['uid','first_order_month']\n",
    "print(first_orders.head(3))"
   ]
  },
  {
   "cell_type": "markdown",
   "metadata": {},
   "source": [
    "Calcularemos el número de nuevos clientes (n_buyers) para cada mes."
   ]
  },
  {
   "cell_type": "code",
   "execution_count": 202,
   "metadata": {},
   "outputs": [
    {
     "name": "stdout",
     "output_type": "stream",
     "text": [
      "  first_order_month  n_buyers\n",
      "0        2017-06-01      2023\n",
      "1        2017-07-01      1923\n",
      "2        2017-08-01      1370\n"
     ]
    }
   ],
   "source": [
    "# Obtain number of users by cohort\n",
    "cohort_sizes = first_orders.groupby('first_order_month').agg({'uid':'nunique'}).reset_index()\n",
    "cohort_sizes.columns = ['first_order_month','n_buyers']\n",
    "print(cohort_sizes.head(3))"
   ]
  },
  {
   "cell_type": "markdown",
   "metadata": {},
   "source": [
    "Cambinamos los DataFrames."
   ]
  },
  {
   "cell_type": "code",
   "execution_count": 203,
   "metadata": {},
   "outputs": [
    {
     "name": "stdout",
     "output_type": "stream",
     "text": [
      "             order_ts  revenue                   uid order_month  \\\n",
      "0 2017-06-01 00:10:00    17.00  10329302124590727494  2017-06-01   \n",
      "1 2017-06-01 00:25:00     0.55  11627257723692907447  2017-06-01   \n",
      "2 2017-06-01 00:27:00     0.37  17903680561304213844  2017-06-01   \n",
      "\n",
      "  first_order_month  \n",
      "0        2017-06-01  \n",
      "1        2017-06-01  \n",
      "2        2017-06-01  \n"
     ]
    }
   ],
   "source": [
    "# Merge DataFrames\n",
    "orders_ = pd.merge(orders,first_orders, on='uid')\n",
    "print(orders_.head(3))"
   ]
  },
  {
   "cell_type": "markdown",
   "metadata": {},
   "source": [
    "Ahora vamos a agrupar la tabla de pedidos por mes de la primera compra y mes de la compra y totalizar los ingresos. Vamos a establecer el índice por defecto usando el método reset_index():"
   ]
  },
  {
   "cell_type": "code",
   "execution_count": 204,
   "metadata": {},
   "outputs": [
    {
     "name": "stdout",
     "output_type": "stream",
     "text": [
      "  first_order_month order_month  revenue\n",
      "0        2017-06-01  2017-06-01  9557.49\n",
      "1        2017-06-01  2017-07-01   981.82\n",
      "2        2017-06-01  2017-08-01   885.34\n"
     ]
    }
   ],
   "source": [
    "# Group by 'first_order_month' and 'order_month' obtain total revenue\n",
    "cohorts = orders_.groupby(['first_order_month','order_month']).agg({'revenue':'sum'}).reset_index()\n",
    "print(cohorts.head(3))"
   ]
  },
  {
   "cell_type": "markdown",
   "metadata": {},
   "source": [
    "La fila de la tabla cohort especifica los ingresos que generó la cohorte. Por ejemplo, en la fila 0 podemos ver que los clientes que realizaron su primer pedido en junio de 2017 generaron un ingreso total de $9557.5 ese mes."
   ]
  },
  {
   "cell_type": "markdown",
   "metadata": {},
   "source": [
    "El LTV es el ingreso acumulado de una cohorte, que representa la cantidad de personas en la cohorte. Agreguemos datos sobre cuántos usuarios realizaron sus primeras compras en cada mes a la tabla cohorts:"
   ]
  },
  {
   "cell_type": "code",
   "execution_count": 205,
   "metadata": {},
   "outputs": [
    {
     "data": {
      "text/html": [
       "<div>\n",
       "<style scoped>\n",
       "    .dataframe tbody tr th:only-of-type {\n",
       "        vertical-align: middle;\n",
       "    }\n",
       "\n",
       "    .dataframe tbody tr th {\n",
       "        vertical-align: top;\n",
       "    }\n",
       "\n",
       "    .dataframe thead th {\n",
       "        text-align: right;\n",
       "    }\n",
       "</style>\n",
       "<table border=\"1\" class=\"dataframe\">\n",
       "  <thead>\n",
       "    <tr style=\"text-align: right;\">\n",
       "      <th></th>\n",
       "      <th>first_order_month</th>\n",
       "      <th>n_buyers</th>\n",
       "      <th>order_month</th>\n",
       "      <th>revenue</th>\n",
       "    </tr>\n",
       "  </thead>\n",
       "  <tbody>\n",
       "    <tr>\n",
       "      <th>0</th>\n",
       "      <td>2017-06-01</td>\n",
       "      <td>2023</td>\n",
       "      <td>2017-06-01</td>\n",
       "      <td>9557.49</td>\n",
       "    </tr>\n",
       "    <tr>\n",
       "      <th>1</th>\n",
       "      <td>2017-06-01</td>\n",
       "      <td>2023</td>\n",
       "      <td>2017-07-01</td>\n",
       "      <td>981.82</td>\n",
       "    </tr>\n",
       "    <tr>\n",
       "      <th>2</th>\n",
       "      <td>2017-06-01</td>\n",
       "      <td>2023</td>\n",
       "      <td>2017-08-01</td>\n",
       "      <td>885.34</td>\n",
       "    </tr>\n",
       "  </tbody>\n",
       "</table>\n",
       "</div>"
      ],
      "text/plain": [
       "  first_order_month  n_buyers order_month  revenue\n",
       "0        2017-06-01      2023  2017-06-01  9557.49\n",
       "1        2017-06-01      2023  2017-07-01   981.82\n",
       "2        2017-06-01      2023  2017-08-01   885.34"
      ]
     },
     "execution_count": 205,
     "metadata": {},
     "output_type": "execute_result"
    }
   ],
   "source": [
    "# Merge DataFrames\n",
    "report = pd.merge(cohort_sizes, cohorts, on='first_order_month')\n",
    "report.head(3)"
   ]
  },
  {
   "cell_type": "markdown",
   "metadata": {},
   "source": [
    "Solo dos pasos más y tendremos el LTV. Primero, dado que el LTV se calcula sobre la base del beneficio bruto en lugar de los ingresos, debemos encontrar el beneficio bruto multiplicando los ingresos por la rentabilidad. En segundo lugar, el LTV es un parámetro relativo y es más fácil de estudiar para cohortes \"maduras\", así que hagamos que las columnas muestren la edad de la cohorte en lugar del mes del pedido."
   ]
  },
  {
   "cell_type": "code",
   "execution_count": 206,
   "metadata": {},
   "outputs": [],
   "source": [
    "margin_rate = 0.5\n",
    "\n",
    "report['gp'] = report['revenue'] * margin_rate\n",
    "report['age'] = report['order_month'].dt.to_period('M').astype(int) - report['first_order_month'].dt.to_period('M').astype(int)\n",
    "\n",
    "# Not supported anymore in pandas 2.0\n",
    "#report['age'] = (report['order_month'] - report['first_order_month']) / np.timedelta64(1,'M')#\n",
    "#report['age'] = report['age'].round().astype('int')"
   ]
  },
  {
   "cell_type": "code",
   "execution_count": 207,
   "metadata": {},
   "outputs": [
    {
     "name": "stdout",
     "output_type": "stream",
     "text": [
      "  first_order_month  n_buyers order_month  revenue        gp  age\n",
      "0        2017-06-01      2023  2017-06-01  9557.49  4778.745    0\n",
      "1        2017-06-01      2023  2017-07-01   981.82   490.910    1\n",
      "2        2017-06-01      2023  2017-08-01   885.34   442.670    2\n",
      "3        2017-06-01      2023  2017-09-01  1931.30   965.650    3\n",
      "4        2017-06-01      2023  2017-10-01  2068.58  1034.290    4\n"
     ]
    }
   ],
   "source": [
    "# Show the report DataFrame\n",
    "print(report.head())"
   ]
  },
  {
   "cell_type": "markdown",
   "metadata": {},
   "source": [
    "Finalmente, el LTV es el beneficio bruto de la cohorte de cada mes entre el número total de usuarios de cada cohorte."
   ]
  },
  {
   "cell_type": "code",
   "execution_count": 208,
   "metadata": {},
   "outputs": [],
   "source": [
    "# Calculate LVT\n",
    "report['ltv'] = report['gp'] / report['n_buyers']"
   ]
  },
  {
   "cell_type": "markdown",
   "metadata": {},
   "source": [
    "Visualizaremos las cohortes como una tabla dinámica."
   ]
  },
  {
   "cell_type": "code",
   "execution_count": 209,
   "metadata": {},
   "outputs": [
    {
     "data": {
      "text/html": [
       "<div>\n",
       "<style scoped>\n",
       "    .dataframe tbody tr th:only-of-type {\n",
       "        vertical-align: middle;\n",
       "    }\n",
       "\n",
       "    .dataframe tbody tr th {\n",
       "        vertical-align: top;\n",
       "    }\n",
       "\n",
       "    .dataframe thead th {\n",
       "        text-align: right;\n",
       "    }\n",
       "</style>\n",
       "<table border=\"1\" class=\"dataframe\">\n",
       "  <thead>\n",
       "    <tr style=\"text-align: right;\">\n",
       "      <th>age</th>\n",
       "      <th>0</th>\n",
       "      <th>1</th>\n",
       "      <th>2</th>\n",
       "      <th>3</th>\n",
       "      <th>4</th>\n",
       "      <th>5</th>\n",
       "      <th>6</th>\n",
       "      <th>7</th>\n",
       "      <th>8</th>\n",
       "      <th>9</th>\n",
       "      <th>10</th>\n",
       "      <th>11</th>\n",
       "    </tr>\n",
       "    <tr>\n",
       "      <th>first_order_month</th>\n",
       "      <th></th>\n",
       "      <th></th>\n",
       "      <th></th>\n",
       "      <th></th>\n",
       "      <th></th>\n",
       "      <th></th>\n",
       "      <th></th>\n",
       "      <th></th>\n",
       "      <th></th>\n",
       "      <th></th>\n",
       "      <th></th>\n",
       "      <th></th>\n",
       "    </tr>\n",
       "  </thead>\n",
       "  <tbody>\n",
       "    <tr>\n",
       "      <th>2017-06-01</th>\n",
       "      <td>2.0</td>\n",
       "      <td>0.0</td>\n",
       "      <td>0.0</td>\n",
       "      <td>0.0</td>\n",
       "      <td>1.0</td>\n",
       "      <td>0.0</td>\n",
       "      <td>0.0</td>\n",
       "      <td>0.0</td>\n",
       "      <td>0.0</td>\n",
       "      <td>0.0</td>\n",
       "      <td>0.0</td>\n",
       "      <td>0.0</td>\n",
       "    </tr>\n",
       "    <tr>\n",
       "      <th>2017-07-01</th>\n",
       "      <td>3.0</td>\n",
       "      <td>0.0</td>\n",
       "      <td>0.0</td>\n",
       "      <td>0.0</td>\n",
       "      <td>0.0</td>\n",
       "      <td>0.0</td>\n",
       "      <td>0.0</td>\n",
       "      <td>0.0</td>\n",
       "      <td>0.0</td>\n",
       "      <td>0.0</td>\n",
       "      <td>0.0</td>\n",
       "      <td></td>\n",
       "    </tr>\n",
       "    <tr>\n",
       "      <th>2017-08-01</th>\n",
       "      <td>3.0</td>\n",
       "      <td>0.0</td>\n",
       "      <td>0.0</td>\n",
       "      <td>0.0</td>\n",
       "      <td>0.0</td>\n",
       "      <td>0.0</td>\n",
       "      <td>0.0</td>\n",
       "      <td>0.0</td>\n",
       "      <td>0.0</td>\n",
       "      <td>0.0</td>\n",
       "      <td></td>\n",
       "      <td></td>\n",
       "    </tr>\n",
       "    <tr>\n",
       "      <th>2017-09-01</th>\n",
       "      <td>3.0</td>\n",
       "      <td>1.0</td>\n",
       "      <td>0.0</td>\n",
       "      <td>2.0</td>\n",
       "      <td>0.0</td>\n",
       "      <td>0.0</td>\n",
       "      <td>0.0</td>\n",
       "      <td>0.0</td>\n",
       "      <td>0.0</td>\n",
       "      <td></td>\n",
       "      <td></td>\n",
       "      <td></td>\n",
       "    </tr>\n",
       "    <tr>\n",
       "      <th>2017-10-01</th>\n",
       "      <td>3.0</td>\n",
       "      <td>0.0</td>\n",
       "      <td>0.0</td>\n",
       "      <td>0.0</td>\n",
       "      <td>0.0</td>\n",
       "      <td>0.0</td>\n",
       "      <td>0.0</td>\n",
       "      <td>0.0</td>\n",
       "      <td></td>\n",
       "      <td></td>\n",
       "      <td></td>\n",
       "      <td></td>\n",
       "    </tr>\n",
       "    <tr>\n",
       "      <th>2017-11-01</th>\n",
       "      <td>3.0</td>\n",
       "      <td>0.0</td>\n",
       "      <td>0.0</td>\n",
       "      <td>0.0</td>\n",
       "      <td>0.0</td>\n",
       "      <td>0.0</td>\n",
       "      <td>0.0</td>\n",
       "      <td></td>\n",
       "      <td></td>\n",
       "      <td></td>\n",
       "      <td></td>\n",
       "      <td></td>\n",
       "    </tr>\n",
       "    <tr>\n",
       "      <th>2017-12-01</th>\n",
       "      <td>2.0</td>\n",
       "      <td>0.0</td>\n",
       "      <td>0.0</td>\n",
       "      <td>1.0</td>\n",
       "      <td>0.0</td>\n",
       "      <td>0.0</td>\n",
       "      <td></td>\n",
       "      <td></td>\n",
       "      <td></td>\n",
       "      <td></td>\n",
       "      <td></td>\n",
       "      <td></td>\n",
       "    </tr>\n",
       "    <tr>\n",
       "      <th>2018-01-01</th>\n",
       "      <td>2.0</td>\n",
       "      <td>0.0</td>\n",
       "      <td>0.0</td>\n",
       "      <td>0.0</td>\n",
       "      <td>0.0</td>\n",
       "      <td></td>\n",
       "      <td></td>\n",
       "      <td></td>\n",
       "      <td></td>\n",
       "      <td></td>\n",
       "      <td></td>\n",
       "      <td></td>\n",
       "    </tr>\n",
       "    <tr>\n",
       "      <th>2018-02-01</th>\n",
       "      <td>2.0</td>\n",
       "      <td>0.0</td>\n",
       "      <td>0.0</td>\n",
       "      <td>0.0</td>\n",
       "      <td></td>\n",
       "      <td></td>\n",
       "      <td></td>\n",
       "      <td></td>\n",
       "      <td></td>\n",
       "      <td></td>\n",
       "      <td></td>\n",
       "      <td></td>\n",
       "    </tr>\n",
       "    <tr>\n",
       "      <th>2018-03-01</th>\n",
       "      <td>2.0</td>\n",
       "      <td>0.0</td>\n",
       "      <td>0.0</td>\n",
       "      <td></td>\n",
       "      <td></td>\n",
       "      <td></td>\n",
       "      <td></td>\n",
       "      <td></td>\n",
       "      <td></td>\n",
       "      <td></td>\n",
       "      <td></td>\n",
       "      <td></td>\n",
       "    </tr>\n",
       "    <tr>\n",
       "      <th>2018-04-01</th>\n",
       "      <td>2.0</td>\n",
       "      <td>0.0</td>\n",
       "      <td></td>\n",
       "      <td></td>\n",
       "      <td></td>\n",
       "      <td></td>\n",
       "      <td></td>\n",
       "      <td></td>\n",
       "      <td></td>\n",
       "      <td></td>\n",
       "      <td></td>\n",
       "      <td></td>\n",
       "    </tr>\n",
       "    <tr>\n",
       "      <th>2018-05-01</th>\n",
       "      <td>2.0</td>\n",
       "      <td></td>\n",
       "      <td></td>\n",
       "      <td></td>\n",
       "      <td></td>\n",
       "      <td></td>\n",
       "      <td></td>\n",
       "      <td></td>\n",
       "      <td></td>\n",
       "      <td></td>\n",
       "      <td></td>\n",
       "      <td></td>\n",
       "    </tr>\n",
       "    <tr>\n",
       "      <th>2018-06-01</th>\n",
       "      <td>2.0</td>\n",
       "      <td></td>\n",
       "      <td></td>\n",
       "      <td></td>\n",
       "      <td></td>\n",
       "      <td></td>\n",
       "      <td></td>\n",
       "      <td></td>\n",
       "      <td></td>\n",
       "      <td></td>\n",
       "      <td></td>\n",
       "      <td></td>\n",
       "    </tr>\n",
       "  </tbody>\n",
       "</table>\n",
       "</div>"
      ],
      "text/plain": [
       "age                 0    1    2    3    4    5    6    7    8    9    10   11\n",
       "first_order_month                                                            \n",
       "2017-06-01         2.0  0.0  0.0  0.0  1.0  0.0  0.0  0.0  0.0  0.0  0.0  0.0\n",
       "2017-07-01         3.0  0.0  0.0  0.0  0.0  0.0  0.0  0.0  0.0  0.0  0.0     \n",
       "2017-08-01         3.0  0.0  0.0  0.0  0.0  0.0  0.0  0.0  0.0  0.0          \n",
       "2017-09-01         3.0  1.0  0.0  2.0  0.0  0.0  0.0  0.0  0.0               \n",
       "2017-10-01         3.0  0.0  0.0  0.0  0.0  0.0  0.0  0.0                    \n",
       "2017-11-01         3.0  0.0  0.0  0.0  0.0  0.0  0.0                         \n",
       "2017-12-01         2.0  0.0  0.0  1.0  0.0  0.0                              \n",
       "2018-01-01         2.0  0.0  0.0  0.0  0.0                                   \n",
       "2018-02-01         2.0  0.0  0.0  0.0                                        \n",
       "2018-03-01         2.0  0.0  0.0                                             \n",
       "2018-04-01         2.0  0.0                                                  \n",
       "2018-05-01         2.0                                                       \n",
       "2018-06-01         2.0                                                       "
      ]
     },
     "execution_count": 209,
     "metadata": {},
     "output_type": "execute_result"
    }
   ],
   "source": [
    "report_pivot = report.pivot_table(\n",
    "    index = 'first_order_month', columns = 'age',\n",
    "    values = 'ltv', aggfunc = 'mean'\n",
    ").round()\n",
    "\n",
    "report_pivot.fillna('')"
   ]
  },
  {
   "cell_type": "markdown",
   "metadata": {},
   "source": [
    "Encontremos el LTV de la primera cohorte sumando el valor de cada mes:"
   ]
  },
  {
   "cell_type": "code",
   "execution_count": 210,
   "metadata": {},
   "outputs": [
    {
     "name": "stdout",
     "output_type": "stream",
     "text": [
      "3.0\n"
     ]
    }
   ],
   "source": [
    "print(report_pivot.loc['2017-06-01'].sum())"
   ]
  },
  {
   "cell_type": "markdown",
   "metadata": {},
   "source": [
    "En promedio, cada cliente de la primera cohorte (2017-06-01) generó $3.0 en ingresos durante su ciclo de vida de 11 meses."
   ]
  },
  {
   "cell_type": "markdown",
   "metadata": {},
   "source": [
    "### 3. Marketing"
   ]
  },
  {
   "cell_type": "markdown",
   "metadata": {},
   "source": [
    "Se calculará el CAC (costo de adquisición de clientes). Primero encontraremos los gastos totales de cada mes, luego los dividiremos entre la cantidad de clientes en cada cohorte."
   ]
  },
  {
   "cell_type": "code",
   "execution_count": 211,
   "metadata": {},
   "outputs": [
    {
     "data": {
      "text/html": [
       "<div>\n",
       "<style scoped>\n",
       "    .dataframe tbody tr th:only-of-type {\n",
       "        vertical-align: middle;\n",
       "    }\n",
       "\n",
       "    .dataframe tbody tr th {\n",
       "        vertical-align: top;\n",
       "    }\n",
       "\n",
       "    .dataframe thead th {\n",
       "        text-align: right;\n",
       "    }\n",
       "</style>\n",
       "<table border=\"1\" class=\"dataframe\">\n",
       "  <thead>\n",
       "    <tr style=\"text-align: right;\">\n",
       "      <th></th>\n",
       "      <th>source_id</th>\n",
       "      <th>month</th>\n",
       "      <th>costs</th>\n",
       "    </tr>\n",
       "  </thead>\n",
       "  <tbody>\n",
       "    <tr>\n",
       "      <th>0</th>\n",
       "      <td>1</td>\n",
       "      <td>2017-06-01</td>\n",
       "      <td>1125.61</td>\n",
       "    </tr>\n",
       "    <tr>\n",
       "      <th>1</th>\n",
       "      <td>1</td>\n",
       "      <td>2017-07-01</td>\n",
       "      <td>1072.88</td>\n",
       "    </tr>\n",
       "    <tr>\n",
       "      <th>2</th>\n",
       "      <td>1</td>\n",
       "      <td>2017-08-01</td>\n",
       "      <td>951.81</td>\n",
       "    </tr>\n",
       "  </tbody>\n",
       "</table>\n",
       "</div>"
      ],
      "text/plain": [
       "   source_id      month    costs\n",
       "0          1 2017-06-01  1125.61\n",
       "1          1 2017-07-01  1072.88\n",
       "2          1 2017-08-01   951.81"
      ]
     },
     "execution_count": 211,
     "metadata": {},
     "output_type": "execute_result"
    }
   ],
   "source": [
    "# Create new column type 'datetime'\n",
    "costs['month'] = costs['date'].dt.to_period('M').dt.to_timestamp()\n",
    "\n",
    "# Costs per month\n",
    "#costs_trim = costs[['source_id','month','month']]\n",
    "monthly_costs = costs.groupby(by=['source_id','month'])['costs'].sum().reset_index()\n",
    "\n",
    "monthly_costs.head(3)"
   ]
  },
  {
   "cell_type": "code",
   "execution_count": 212,
   "metadata": {},
   "outputs": [
    {
     "data": {
      "text/html": [
       "<div>\n",
       "<style scoped>\n",
       "    .dataframe tbody tr th:only-of-type {\n",
       "        vertical-align: middle;\n",
       "    }\n",
       "\n",
       "    .dataframe tbody tr th {\n",
       "        vertical-align: top;\n",
       "    }\n",
       "\n",
       "    .dataframe thead th {\n",
       "        text-align: right;\n",
       "    }\n",
       "</style>\n",
       "<table border=\"1\" class=\"dataframe\">\n",
       "  <thead>\n",
       "    <tr style=\"text-align: right;\">\n",
       "      <th></th>\n",
       "      <th>first_order_month</th>\n",
       "      <th>n_buyers</th>\n",
       "      <th>order_month</th>\n",
       "      <th>revenue</th>\n",
       "      <th>gp</th>\n",
       "      <th>age</th>\n",
       "      <th>ltv</th>\n",
       "      <th>source_id</th>\n",
       "      <th>month</th>\n",
       "      <th>costs</th>\n",
       "      <th>cac</th>\n",
       "    </tr>\n",
       "  </thead>\n",
       "  <tbody>\n",
       "    <tr>\n",
       "      <th>0</th>\n",
       "      <td>2017-06-01</td>\n",
       "      <td>2023</td>\n",
       "      <td>2017-06-01</td>\n",
       "      <td>9557.49</td>\n",
       "      <td>4778.745</td>\n",
       "      <td>0</td>\n",
       "      <td>2.362207</td>\n",
       "      <td>1</td>\n",
       "      <td>2017-06-01</td>\n",
       "      <td>1125.61</td>\n",
       "      <td>0.556406</td>\n",
       "    </tr>\n",
       "    <tr>\n",
       "      <th>1</th>\n",
       "      <td>2017-06-01</td>\n",
       "      <td>2023</td>\n",
       "      <td>2017-06-01</td>\n",
       "      <td>9557.49</td>\n",
       "      <td>4778.745</td>\n",
       "      <td>0</td>\n",
       "      <td>2.362207</td>\n",
       "      <td>2</td>\n",
       "      <td>2017-06-01</td>\n",
       "      <td>2427.38</td>\n",
       "      <td>1.199891</td>\n",
       "    </tr>\n",
       "    <tr>\n",
       "      <th>2</th>\n",
       "      <td>2017-06-01</td>\n",
       "      <td>2023</td>\n",
       "      <td>2017-06-01</td>\n",
       "      <td>9557.49</td>\n",
       "      <td>4778.745</td>\n",
       "      <td>0</td>\n",
       "      <td>2.362207</td>\n",
       "      <td>3</td>\n",
       "      <td>2017-06-01</td>\n",
       "      <td>7731.65</td>\n",
       "      <td>3.821873</td>\n",
       "    </tr>\n",
       "    <tr>\n",
       "      <th>3</th>\n",
       "      <td>2017-06-01</td>\n",
       "      <td>2023</td>\n",
       "      <td>2017-06-01</td>\n",
       "      <td>9557.49</td>\n",
       "      <td>4778.745</td>\n",
       "      <td>0</td>\n",
       "      <td>2.362207</td>\n",
       "      <td>4</td>\n",
       "      <td>2017-06-01</td>\n",
       "      <td>3514.80</td>\n",
       "      <td>1.737420</td>\n",
       "    </tr>\n",
       "    <tr>\n",
       "      <th>4</th>\n",
       "      <td>2017-06-01</td>\n",
       "      <td>2023</td>\n",
       "      <td>2017-06-01</td>\n",
       "      <td>9557.49</td>\n",
       "      <td>4778.745</td>\n",
       "      <td>0</td>\n",
       "      <td>2.362207</td>\n",
       "      <td>5</td>\n",
       "      <td>2017-06-01</td>\n",
       "      <td>2616.12</td>\n",
       "      <td>1.293188</td>\n",
       "    </tr>\n",
       "    <tr>\n",
       "      <th>5</th>\n",
       "      <td>2017-06-01</td>\n",
       "      <td>2023</td>\n",
       "      <td>2017-06-01</td>\n",
       "      <td>9557.49</td>\n",
       "      <td>4778.745</td>\n",
       "      <td>0</td>\n",
       "      <td>2.362207</td>\n",
       "      <td>9</td>\n",
       "      <td>2017-06-01</td>\n",
       "      <td>285.22</td>\n",
       "      <td>0.140989</td>\n",
       "    </tr>\n",
       "    <tr>\n",
       "      <th>6</th>\n",
       "      <td>2017-06-01</td>\n",
       "      <td>2023</td>\n",
       "      <td>2017-06-01</td>\n",
       "      <td>9557.49</td>\n",
       "      <td>4778.745</td>\n",
       "      <td>0</td>\n",
       "      <td>2.362207</td>\n",
       "      <td>10</td>\n",
       "      <td>2017-06-01</td>\n",
       "      <td>314.22</td>\n",
       "      <td>0.155324</td>\n",
       "    </tr>\n",
       "    <tr>\n",
       "      <th>7</th>\n",
       "      <td>2017-06-01</td>\n",
       "      <td>2023</td>\n",
       "      <td>2017-07-01</td>\n",
       "      <td>981.82</td>\n",
       "      <td>490.910</td>\n",
       "      <td>1</td>\n",
       "      <td>0.242664</td>\n",
       "      <td>1</td>\n",
       "      <td>2017-06-01</td>\n",
       "      <td>1125.61</td>\n",
       "      <td>0.556406</td>\n",
       "    </tr>\n",
       "    <tr>\n",
       "      <th>8</th>\n",
       "      <td>2017-06-01</td>\n",
       "      <td>2023</td>\n",
       "      <td>2017-07-01</td>\n",
       "      <td>981.82</td>\n",
       "      <td>490.910</td>\n",
       "      <td>1</td>\n",
       "      <td>0.242664</td>\n",
       "      <td>2</td>\n",
       "      <td>2017-06-01</td>\n",
       "      <td>2427.38</td>\n",
       "      <td>1.199891</td>\n",
       "    </tr>\n",
       "    <tr>\n",
       "      <th>9</th>\n",
       "      <td>2017-06-01</td>\n",
       "      <td>2023</td>\n",
       "      <td>2017-07-01</td>\n",
       "      <td>981.82</td>\n",
       "      <td>490.910</td>\n",
       "      <td>1</td>\n",
       "      <td>0.242664</td>\n",
       "      <td>3</td>\n",
       "      <td>2017-06-01</td>\n",
       "      <td>7731.65</td>\n",
       "      <td>3.821873</td>\n",
       "    </tr>\n",
       "  </tbody>\n",
       "</table>\n",
       "</div>"
      ],
      "text/plain": [
       "  first_order_month  n_buyers order_month  revenue        gp  age       ltv  \\\n",
       "0        2017-06-01      2023  2017-06-01  9557.49  4778.745    0  2.362207   \n",
       "1        2017-06-01      2023  2017-06-01  9557.49  4778.745    0  2.362207   \n",
       "2        2017-06-01      2023  2017-06-01  9557.49  4778.745    0  2.362207   \n",
       "3        2017-06-01      2023  2017-06-01  9557.49  4778.745    0  2.362207   \n",
       "4        2017-06-01      2023  2017-06-01  9557.49  4778.745    0  2.362207   \n",
       "5        2017-06-01      2023  2017-06-01  9557.49  4778.745    0  2.362207   \n",
       "6        2017-06-01      2023  2017-06-01  9557.49  4778.745    0  2.362207   \n",
       "7        2017-06-01      2023  2017-07-01   981.82   490.910    1  0.242664   \n",
       "8        2017-06-01      2023  2017-07-01   981.82   490.910    1  0.242664   \n",
       "9        2017-06-01      2023  2017-07-01   981.82   490.910    1  0.242664   \n",
       "\n",
       "   source_id      month    costs       cac  \n",
       "0          1 2017-06-01  1125.61  0.556406  \n",
       "1          2 2017-06-01  2427.38  1.199891  \n",
       "2          3 2017-06-01  7731.65  3.821873  \n",
       "3          4 2017-06-01  3514.80  1.737420  \n",
       "4          5 2017-06-01  2616.12  1.293188  \n",
       "5          9 2017-06-01   285.22  0.140989  \n",
       "6         10 2017-06-01   314.22  0.155324  \n",
       "7          1 2017-06-01  1125.61  0.556406  \n",
       "8          2 2017-06-01  2427.38  1.199891  \n",
       "9          3 2017-06-01  7731.65  3.821873  "
      ]
     },
     "execution_count": 212,
     "metadata": {},
     "output_type": "execute_result"
    }
   ],
   "source": [
    "# Merge DataFrames\n",
    "report_ = pd.merge(report,monthly_costs,left_on='first_order_month',right_on='month')\n",
    "\n",
    "# Obtain CAC\n",
    "report_['cac'] = report_['costs'] / report_['n_buyers']\n",
    "report_.head(10)"
   ]
  },
  {
   "cell_type": "markdown",
   "metadata": {},
   "source": [
    "#### a. ¿Cuánto dinero se gastó? (Total/por fuente de adquisición/a lo largo del tiempo)"
   ]
  },
  {
   "cell_type": "markdown",
   "metadata": {},
   "source": [
    "Veamos cuantas fuentes de adquisición diferentes existen."
   ]
  },
  {
   "cell_type": "code",
   "execution_count": 213,
   "metadata": {},
   "outputs": [
    {
     "name": "stdout",
     "output_type": "stream",
     "text": [
      "[ 1  2  3  4  5  9 10]\n"
     ]
    }
   ],
   "source": [
    "print(report_['source_id'].unique())"
   ]
  },
  {
   "cell_type": "markdown",
   "metadata": {},
   "source": [
    "Se tienen 7 source_id de diferentes fuentes. Al agrupar por 'source_id' y sumar toda la columna 'costs', se obtienen los gastos totales por fuente de adquisición."
   ]
  },
  {
   "cell_type": "code",
   "execution_count": 214,
   "metadata": {},
   "outputs": [
    {
     "data": {
      "text/plain": [
       "source_id\n",
       "1     127585.19\n",
       "2     263847.09\n",
       "3     868903.37\n",
       "4     378008.44\n",
       "5     317923.30\n",
       "9      34077.70\n",
       "10     36070.85\n",
       "Name: costs, dtype: float64"
      ]
     },
     "execution_count": 214,
     "metadata": {},
     "output_type": "execute_result"
    }
   ],
   "source": [
    "total_cost_by_source = report_.groupby('source_id')['costs'].sum()\n",
    "total_cost_by_source"
   ]
  },
  {
   "cell_type": "markdown",
   "metadata": {},
   "source": [
    "Ahora se mostrará el costo total de todo el marketing a lo largo del tiempo."
   ]
  },
  {
   "cell_type": "code",
   "execution_count": 215,
   "metadata": {},
   "outputs": [
    {
     "data": {
      "image/png": "[encoded data removed]",
      "text/plain": [
       "<Figure size 1000x600 with 1 Axes>"
      ]
     },
     "metadata": {},
     "output_type": "display_data"
    }
   ],
   "source": [
    "# Obtain total costs per month\n",
    "costs_time = costs.groupby('month')['costs'].sum()\n",
    "\n",
    "# Line plot\n",
    "costs_time.plot(kind='line', title='Total costs', figsize=(10,6),\n",
    "               xlabel='Months', ylabel='Costs ($)', color='red')\n",
    "plt.show()"
   ]
  },
  {
   "cell_type": "markdown",
   "metadata": {},
   "source": [
    "Ahora se mostrará el ingreso total de las ventas a lo largo del tiempo."
   ]
  },
  {
   "cell_type": "code",
   "execution_count": 216,
   "metadata": {},
   "outputs": [
    {
     "data": {
      "image/png": "[encoded data removed]",
      "text/plain": [
       "<Figure size 1000x600 with 1 Axes>"
      ]
     },
     "metadata": {},
     "output_type": "display_data"
    }
   ],
   "source": [
    "# Obtain total revenue per month\n",
    "revenue_time = report_.groupby('month')['revenue'].sum()\n",
    "\n",
    "# Line plot\n",
    "revenue_time.plot(kind='line', title='Total revenue', figsize=(10,6),\n",
    "               xlabel='Months', ylabel='Revenue ($)', color='blue')\n",
    "plt.show()"
   ]
  },
  {
   "cell_type": "markdown",
   "metadata": {},
   "source": [
    "**Conclusión:** Tomando en cuenta las 2 gráficas de arriba, se puede suponer que las ganacias fueron mucho mayores a los gastos de marketing, pero eso se mostrará más adelante."
   ]
  },
  {
   "cell_type": "markdown",
   "metadata": {},
   "source": [
    "#### b. ¿Cuál fue el costo de adquisición de clientes de cada una de las fuentes?"
   ]
  },
  {
   "cell_type": "code",
   "execution_count": 217,
   "metadata": {},
   "outputs": [
    {
     "data": {
      "text/plain": [
       "source_id\n",
       "1      45.587828\n",
       "2      93.956107\n",
       "3     309.730341\n",
       "4     139.473671\n",
       "5     113.230671\n",
       "9      12.157186\n",
       "10     12.816800\n",
       "Name: cac, dtype: float64"
      ]
     },
     "execution_count": 217,
     "metadata": {},
     "output_type": "execute_result"
    }
   ],
   "source": [
    "total_cac_by_source = report_.groupby('source_id')['cac'].sum()\n",
    "total_cac_by_source"
   ]
  },
  {
   "cell_type": "markdown",
   "metadata": {},
   "source": [
    "Para la fuente de adquisición con source_id '1', el costo de atraer un cliente en promedio fue de $45.58."
   ]
  },
  {
   "cell_type": "markdown",
   "metadata": {},
   "source": [
    "#### c. ¿Cuán rentables eran las inversiones? (ROMI)"
   ]
  },
  {
   "cell_type": "markdown",
   "metadata": {},
   "source": [
    "ROMI = LTV / CAC."
   ]
  },
  {
   "cell_type": "code",
   "execution_count": 218,
   "metadata": {},
   "outputs": [],
   "source": [
    "# Obtain ROMI\n",
    "report_['romi'] = report_['ltv'] / report_['cac']"
   ]
  },
  {
   "cell_type": "code",
   "execution_count": 219,
   "metadata": {},
   "outputs": [
    {
     "data": {
      "text/html": [
       "<div>\n",
       "<style scoped>\n",
       "    .dataframe tbody tr th:only-of-type {\n",
       "        vertical-align: middle;\n",
       "    }\n",
       "\n",
       "    .dataframe tbody tr th {\n",
       "        vertical-align: top;\n",
       "    }\n",
       "\n",
       "    .dataframe thead th {\n",
       "        text-align: right;\n",
       "    }\n",
       "</style>\n",
       "<table border=\"1\" class=\"dataframe\">\n",
       "  <thead>\n",
       "    <tr style=\"text-align: right;\">\n",
       "      <th>age</th>\n",
       "      <th>0</th>\n",
       "      <th>1</th>\n",
       "      <th>2</th>\n",
       "      <th>3</th>\n",
       "      <th>4</th>\n",
       "      <th>5</th>\n",
       "      <th>6</th>\n",
       "      <th>7</th>\n",
       "      <th>8</th>\n",
       "      <th>9</th>\n",
       "      <th>10</th>\n",
       "      <th>11</th>\n",
       "    </tr>\n",
       "    <tr>\n",
       "      <th>first_order_month</th>\n",
       "      <th></th>\n",
       "      <th></th>\n",
       "      <th></th>\n",
       "      <th></th>\n",
       "      <th></th>\n",
       "      <th></th>\n",
       "      <th></th>\n",
       "      <th></th>\n",
       "      <th></th>\n",
       "      <th></th>\n",
       "      <th></th>\n",
       "      <th></th>\n",
       "    </tr>\n",
       "  </thead>\n",
       "  <tbody>\n",
       "    <tr>\n",
       "      <th>2017-06-01</th>\n",
       "      <td>6.00</td>\n",
       "      <td>0.62</td>\n",
       "      <td>0.56</td>\n",
       "      <td>1.21</td>\n",
       "      <td>1.30</td>\n",
       "      <td>0.93</td>\n",
       "      <td>1.21</td>\n",
       "      <td>0.74</td>\n",
       "      <td>0.70</td>\n",
       "      <td>0.77</td>\n",
       "      <td>0.73</td>\n",
       "      <td>0.33</td>\n",
       "    </tr>\n",
       "    <tr>\n",
       "      <th>2017-07-01</th>\n",
       "      <td>6.97</td>\n",
       "      <td>0.39</td>\n",
       "      <td>0.72</td>\n",
       "      <td>0.42</td>\n",
       "      <td>0.21</td>\n",
       "      <td>0.18</td>\n",
       "      <td>0.14</td>\n",
       "      <td>0.16</td>\n",
       "      <td>0.19</td>\n",
       "      <td>0.17</td>\n",
       "      <td>0.18</td>\n",
       "      <td>NaN</td>\n",
       "    </tr>\n",
       "    <tr>\n",
       "      <th>2017-08-01</th>\n",
       "      <td>5.60</td>\n",
       "      <td>0.50</td>\n",
       "      <td>0.49</td>\n",
       "      <td>0.42</td>\n",
       "      <td>0.52</td>\n",
       "      <td>0.30</td>\n",
       "      <td>0.22</td>\n",
       "      <td>0.43</td>\n",
       "      <td>0.31</td>\n",
       "      <td>0.20</td>\n",
       "      <td>NaN</td>\n",
       "      <td>NaN</td>\n",
       "    </tr>\n",
       "    <tr>\n",
       "      <th>2017-09-01</th>\n",
       "      <td>6.38</td>\n",
       "      <td>1.26</td>\n",
       "      <td>0.59</td>\n",
       "      <td>4.49</td>\n",
       "      <td>0.45</td>\n",
       "      <td>0.73</td>\n",
       "      <td>0.79</td>\n",
       "      <td>0.27</td>\n",
       "      <td>0.21</td>\n",
       "      <td>NaN</td>\n",
       "      <td>NaN</td>\n",
       "      <td>NaN</td>\n",
       "    </tr>\n",
       "    <tr>\n",
       "      <th>2017-10-01</th>\n",
       "      <td>6.62</td>\n",
       "      <td>0.71</td>\n",
       "      <td>0.25</td>\n",
       "      <td>0.21</td>\n",
       "      <td>0.20</td>\n",
       "      <td>0.16</td>\n",
       "      <td>0.11</td>\n",
       "      <td>0.15</td>\n",
       "      <td>NaN</td>\n",
       "      <td>NaN</td>\n",
       "      <td>NaN</td>\n",
       "      <td>NaN</td>\n",
       "    </tr>\n",
       "    <tr>\n",
       "      <th>2017-11-01</th>\n",
       "      <td>5.60</td>\n",
       "      <td>0.43</td>\n",
       "      <td>0.22</td>\n",
       "      <td>0.35</td>\n",
       "      <td>0.16</td>\n",
       "      <td>0.06</td>\n",
       "      <td>0.12</td>\n",
       "      <td>NaN</td>\n",
       "      <td>NaN</td>\n",
       "      <td>NaN</td>\n",
       "      <td>NaN</td>\n",
       "      <td>NaN</td>\n",
       "    </tr>\n",
       "    <tr>\n",
       "      <th>2017-12-01</th>\n",
       "      <td>6.02</td>\n",
       "      <td>0.33</td>\n",
       "      <td>1.18</td>\n",
       "      <td>1.35</td>\n",
       "      <td>0.40</td>\n",
       "      <td>0.43</td>\n",
       "      <td>NaN</td>\n",
       "      <td>NaN</td>\n",
       "      <td>NaN</td>\n",
       "      <td>NaN</td>\n",
       "      <td>NaN</td>\n",
       "      <td>NaN</td>\n",
       "    </tr>\n",
       "    <tr>\n",
       "      <th>2018-01-01</th>\n",
       "      <td>4.56</td>\n",
       "      <td>0.33</td>\n",
       "      <td>0.34</td>\n",
       "      <td>0.16</td>\n",
       "      <td>0.07</td>\n",
       "      <td>NaN</td>\n",
       "      <td>NaN</td>\n",
       "      <td>NaN</td>\n",
       "      <td>NaN</td>\n",
       "      <td>NaN</td>\n",
       "      <td>NaN</td>\n",
       "      <td>NaN</td>\n",
       "    </tr>\n",
       "    <tr>\n",
       "      <th>2018-02-01</th>\n",
       "      <td>5.43</td>\n",
       "      <td>0.36</td>\n",
       "      <td>0.10</td>\n",
       "      <td>0.10</td>\n",
       "      <td>NaN</td>\n",
       "      <td>NaN</td>\n",
       "      <td>NaN</td>\n",
       "      <td>NaN</td>\n",
       "      <td>NaN</td>\n",
       "      <td>NaN</td>\n",
       "      <td>NaN</td>\n",
       "      <td>NaN</td>\n",
       "    </tr>\n",
       "    <tr>\n",
       "      <th>2018-03-01</th>\n",
       "      <td>6.38</td>\n",
       "      <td>0.40</td>\n",
       "      <td>0.42</td>\n",
       "      <td>NaN</td>\n",
       "      <td>NaN</td>\n",
       "      <td>NaN</td>\n",
       "      <td>NaN</td>\n",
       "      <td>NaN</td>\n",
       "      <td>NaN</td>\n",
       "      <td>NaN</td>\n",
       "      <td>NaN</td>\n",
       "      <td>NaN</td>\n",
       "    </tr>\n",
       "    <tr>\n",
       "      <th>2018-04-01</th>\n",
       "      <td>5.27</td>\n",
       "      <td>0.60</td>\n",
       "      <td>NaN</td>\n",
       "      <td>NaN</td>\n",
       "      <td>NaN</td>\n",
       "      <td>NaN</td>\n",
       "      <td>NaN</td>\n",
       "      <td>NaN</td>\n",
       "      <td>NaN</td>\n",
       "      <td>NaN</td>\n",
       "      <td>NaN</td>\n",
       "      <td>NaN</td>\n",
       "    </tr>\n",
       "    <tr>\n",
       "      <th>2018-05-01</th>\n",
       "      <td>6.83</td>\n",
       "      <td>NaN</td>\n",
       "      <td>NaN</td>\n",
       "      <td>NaN</td>\n",
       "      <td>NaN</td>\n",
       "      <td>NaN</td>\n",
       "      <td>NaN</td>\n",
       "      <td>NaN</td>\n",
       "      <td>NaN</td>\n",
       "      <td>NaN</td>\n",
       "      <td>NaN</td>\n",
       "      <td>NaN</td>\n",
       "    </tr>\n",
       "  </tbody>\n",
       "</table>\n",
       "</div>"
      ],
      "text/plain": [
       "age                  0     1     2     3     4     5     6     7     8     9   \\\n",
       "first_order_month                                                               \n",
       "2017-06-01         6.00  0.62  0.56  1.21  1.30  0.93  1.21  0.74  0.70  0.77   \n",
       "2017-07-01         6.97  0.39  0.72  0.42  0.21  0.18  0.14  0.16  0.19  0.17   \n",
       "2017-08-01         5.60  0.50  0.49  0.42  0.52  0.30  0.22  0.43  0.31  0.20   \n",
       "2017-09-01         6.38  1.26  0.59  4.49  0.45  0.73  0.79  0.27  0.21   NaN   \n",
       "2017-10-01         6.62  0.71  0.25  0.21  0.20  0.16  0.11  0.15   NaN   NaN   \n",
       "2017-11-01         5.60  0.43  0.22  0.35  0.16  0.06  0.12   NaN   NaN   NaN   \n",
       "2017-12-01         6.02  0.33  1.18  1.35  0.40  0.43   NaN   NaN   NaN   NaN   \n",
       "2018-01-01         4.56  0.33  0.34  0.16  0.07   NaN   NaN   NaN   NaN   NaN   \n",
       "2018-02-01         5.43  0.36  0.10  0.10   NaN   NaN   NaN   NaN   NaN   NaN   \n",
       "2018-03-01         6.38  0.40  0.42   NaN   NaN   NaN   NaN   NaN   NaN   NaN   \n",
       "2018-04-01         5.27  0.60   NaN   NaN   NaN   NaN   NaN   NaN   NaN   NaN   \n",
       "2018-05-01         6.83   NaN   NaN   NaN   NaN   NaN   NaN   NaN   NaN   NaN   \n",
       "\n",
       "age                  10    11  \n",
       "first_order_month              \n",
       "2017-06-01         0.73  0.33  \n",
       "2017-07-01         0.18   NaN  \n",
       "2017-08-01          NaN   NaN  \n",
       "2017-09-01          NaN   NaN  \n",
       "2017-10-01          NaN   NaN  \n",
       "2017-11-01          NaN   NaN  \n",
       "2017-12-01          NaN   NaN  \n",
       "2018-01-01          NaN   NaN  \n",
       "2018-02-01          NaN   NaN  \n",
       "2018-03-01          NaN   NaN  \n",
       "2018-04-01          NaN   NaN  \n",
       "2018-05-01          NaN   NaN  "
      ]
     },
     "execution_count": 219,
     "metadata": {},
     "output_type": "execute_result"
    }
   ],
   "source": [
    "# Group by 'first_order_month' and 'age', to obtain 'mean' of 'romi'\n",
    "rep_romi = report_.pivot_table(\n",
    "    index = 'first_order_month', columns = 'age',\n",
    "    values = 'romi', aggfunc = 'mean'\n",
    ")\n",
    "rep_romi.round(2)"
   ]
  },
  {
   "cell_type": "markdown",
   "metadata": {},
   "source": [
    "Para calcular el ROMI acumulado, se usa el método cumsum()."
   ]
  },
  {
   "cell_type": "code",
   "execution_count": 220,
   "metadata": {},
   "outputs": [
    {
     "data": {
      "text/html": [
       "<div>\n",
       "<style scoped>\n",
       "    .dataframe tbody tr th:only-of-type {\n",
       "        vertical-align: middle;\n",
       "    }\n",
       "\n",
       "    .dataframe tbody tr th {\n",
       "        vertical-align: top;\n",
       "    }\n",
       "\n",
       "    .dataframe thead th {\n",
       "        text-align: right;\n",
       "    }\n",
       "</style>\n",
       "<table border=\"1\" class=\"dataframe\">\n",
       "  <thead>\n",
       "    <tr style=\"text-align: right;\">\n",
       "      <th>age</th>\n",
       "      <th>0</th>\n",
       "      <th>1</th>\n",
       "      <th>2</th>\n",
       "      <th>3</th>\n",
       "      <th>4</th>\n",
       "      <th>5</th>\n",
       "      <th>6</th>\n",
       "      <th>7</th>\n",
       "      <th>8</th>\n",
       "      <th>9</th>\n",
       "      <th>10</th>\n",
       "      <th>11</th>\n",
       "    </tr>\n",
       "    <tr>\n",
       "      <th>first_order_month</th>\n",
       "      <th></th>\n",
       "      <th></th>\n",
       "      <th></th>\n",
       "      <th></th>\n",
       "      <th></th>\n",
       "      <th></th>\n",
       "      <th></th>\n",
       "      <th></th>\n",
       "      <th></th>\n",
       "      <th></th>\n",
       "      <th></th>\n",
       "      <th></th>\n",
       "    </tr>\n",
       "  </thead>\n",
       "  <tbody>\n",
       "    <tr>\n",
       "      <th>2017-06-01</th>\n",
       "      <td>6.00</td>\n",
       "      <td>6.61</td>\n",
       "      <td>7.17</td>\n",
       "      <td>8.38</td>\n",
       "      <td>9.68</td>\n",
       "      <td>10.61</td>\n",
       "      <td>11.82</td>\n",
       "      <td>12.56</td>\n",
       "      <td>13.26</td>\n",
       "      <td>14.03</td>\n",
       "      <td>14.75</td>\n",
       "      <td>15.08</td>\n",
       "    </tr>\n",
       "    <tr>\n",
       "      <th>2017-07-01</th>\n",
       "      <td>6.97</td>\n",
       "      <td>7.36</td>\n",
       "      <td>8.08</td>\n",
       "      <td>8.5</td>\n",
       "      <td>8.71</td>\n",
       "      <td>8.89</td>\n",
       "      <td>9.03</td>\n",
       "      <td>9.19</td>\n",
       "      <td>9.38</td>\n",
       "      <td>9.55</td>\n",
       "      <td>9.73</td>\n",
       "      <td></td>\n",
       "    </tr>\n",
       "    <tr>\n",
       "      <th>2017-08-01</th>\n",
       "      <td>5.60</td>\n",
       "      <td>6.1</td>\n",
       "      <td>6.59</td>\n",
       "      <td>7.01</td>\n",
       "      <td>7.53</td>\n",
       "      <td>7.83</td>\n",
       "      <td>8.06</td>\n",
       "      <td>8.49</td>\n",
       "      <td>8.8</td>\n",
       "      <td>9.0</td>\n",
       "      <td></td>\n",
       "      <td></td>\n",
       "    </tr>\n",
       "    <tr>\n",
       "      <th>2017-09-01</th>\n",
       "      <td>6.38</td>\n",
       "      <td>7.64</td>\n",
       "      <td>8.23</td>\n",
       "      <td>12.72</td>\n",
       "      <td>13.18</td>\n",
       "      <td>13.91</td>\n",
       "      <td>14.7</td>\n",
       "      <td>14.98</td>\n",
       "      <td>15.18</td>\n",
       "      <td></td>\n",
       "      <td></td>\n",
       "      <td></td>\n",
       "    </tr>\n",
       "    <tr>\n",
       "      <th>2017-10-01</th>\n",
       "      <td>6.62</td>\n",
       "      <td>7.33</td>\n",
       "      <td>7.58</td>\n",
       "      <td>7.79</td>\n",
       "      <td>7.99</td>\n",
       "      <td>8.15</td>\n",
       "      <td>8.26</td>\n",
       "      <td>8.41</td>\n",
       "      <td></td>\n",
       "      <td></td>\n",
       "      <td></td>\n",
       "      <td></td>\n",
       "    </tr>\n",
       "    <tr>\n",
       "      <th>2017-11-01</th>\n",
       "      <td>5.60</td>\n",
       "      <td>6.04</td>\n",
       "      <td>6.25</td>\n",
       "      <td>6.61</td>\n",
       "      <td>6.77</td>\n",
       "      <td>6.82</td>\n",
       "      <td>6.95</td>\n",
       "      <td></td>\n",
       "      <td></td>\n",
       "      <td></td>\n",
       "      <td></td>\n",
       "      <td></td>\n",
       "    </tr>\n",
       "    <tr>\n",
       "      <th>2017-12-01</th>\n",
       "      <td>6.02</td>\n",
       "      <td>6.36</td>\n",
       "      <td>7.53</td>\n",
       "      <td>8.89</td>\n",
       "      <td>9.28</td>\n",
       "      <td>9.71</td>\n",
       "      <td></td>\n",
       "      <td></td>\n",
       "      <td></td>\n",
       "      <td></td>\n",
       "      <td></td>\n",
       "      <td></td>\n",
       "    </tr>\n",
       "    <tr>\n",
       "      <th>2018-01-01</th>\n",
       "      <td>4.56</td>\n",
       "      <td>4.89</td>\n",
       "      <td>5.22</td>\n",
       "      <td>5.38</td>\n",
       "      <td>5.45</td>\n",
       "      <td></td>\n",
       "      <td></td>\n",
       "      <td></td>\n",
       "      <td></td>\n",
       "      <td></td>\n",
       "      <td></td>\n",
       "      <td></td>\n",
       "    </tr>\n",
       "    <tr>\n",
       "      <th>2018-02-01</th>\n",
       "      <td>5.43</td>\n",
       "      <td>5.8</td>\n",
       "      <td>5.9</td>\n",
       "      <td>6.0</td>\n",
       "      <td></td>\n",
       "      <td></td>\n",
       "      <td></td>\n",
       "      <td></td>\n",
       "      <td></td>\n",
       "      <td></td>\n",
       "      <td></td>\n",
       "      <td></td>\n",
       "    </tr>\n",
       "    <tr>\n",
       "      <th>2018-03-01</th>\n",
       "      <td>6.38</td>\n",
       "      <td>6.78</td>\n",
       "      <td>7.2</td>\n",
       "      <td></td>\n",
       "      <td></td>\n",
       "      <td></td>\n",
       "      <td></td>\n",
       "      <td></td>\n",
       "      <td></td>\n",
       "      <td></td>\n",
       "      <td></td>\n",
       "      <td></td>\n",
       "    </tr>\n",
       "    <tr>\n",
       "      <th>2018-04-01</th>\n",
       "      <td>5.27</td>\n",
       "      <td>5.87</td>\n",
       "      <td></td>\n",
       "      <td></td>\n",
       "      <td></td>\n",
       "      <td></td>\n",
       "      <td></td>\n",
       "      <td></td>\n",
       "      <td></td>\n",
       "      <td></td>\n",
       "      <td></td>\n",
       "      <td></td>\n",
       "    </tr>\n",
       "    <tr>\n",
       "      <th>2018-05-01</th>\n",
       "      <td>6.83</td>\n",
       "      <td></td>\n",
       "      <td></td>\n",
       "      <td></td>\n",
       "      <td></td>\n",
       "      <td></td>\n",
       "      <td></td>\n",
       "      <td></td>\n",
       "      <td></td>\n",
       "      <td></td>\n",
       "      <td></td>\n",
       "      <td></td>\n",
       "    </tr>\n",
       "  </tbody>\n",
       "</table>\n",
       "</div>"
      ],
      "text/plain": [
       "age                  0     1     2      3      4      5      6      7      8   \\\n",
       "first_order_month                                                               \n",
       "2017-06-01         6.00  6.61  7.17   8.38   9.68  10.61  11.82  12.56  13.26   \n",
       "2017-07-01         6.97  7.36  8.08    8.5   8.71   8.89   9.03   9.19   9.38   \n",
       "2017-08-01         5.60   6.1  6.59   7.01   7.53   7.83   8.06   8.49    8.8   \n",
       "2017-09-01         6.38  7.64  8.23  12.72  13.18  13.91   14.7  14.98  15.18   \n",
       "2017-10-01         6.62  7.33  7.58   7.79   7.99   8.15   8.26   8.41          \n",
       "2017-11-01         5.60  6.04  6.25   6.61   6.77   6.82   6.95                 \n",
       "2017-12-01         6.02  6.36  7.53   8.89   9.28   9.71                        \n",
       "2018-01-01         4.56  4.89  5.22   5.38   5.45                               \n",
       "2018-02-01         5.43   5.8   5.9    6.0                                      \n",
       "2018-03-01         6.38  6.78   7.2                                             \n",
       "2018-04-01         5.27  5.87                                                   \n",
       "2018-05-01         6.83                                                         \n",
       "\n",
       "age                   9      10     11  \n",
       "first_order_month                       \n",
       "2017-06-01         14.03  14.75  15.08  \n",
       "2017-07-01          9.55   9.73         \n",
       "2017-08-01           9.0                \n",
       "2017-09-01                              \n",
       "2017-10-01                              \n",
       "2017-11-01                              \n",
       "2017-12-01                              \n",
       "2018-01-01                              \n",
       "2018-02-01                              \n",
       "2018-03-01                              \n",
       "2018-04-01                              \n",
       "2018-05-01                              "
      ]
     },
     "execution_count": 220,
     "metadata": {},
     "output_type": "execute_result"
    }
   ],
   "source": [
    "# Cumulative sum of ROMI by rows (axis=1)\n",
    "rep_romi.cumsum(axis=1).round(2).fillna('')"
   ]
  },
  {
   "cell_type": "markdown",
   "metadata": {},
   "source": [
    "De manera general sí se recupera la inversión de marketing para todas las cohortes. Se hará el mismo análisis para las fuentes de adquisición con source_id: 1 y 3. El análisis para las demás es similar."
   ]
  },
  {
   "cell_type": "code",
   "execution_count": 221,
   "metadata": {},
   "outputs": [
    {
     "data": {
      "text/html": [
       "<div>\n",
       "<style scoped>\n",
       "    .dataframe tbody tr th:only-of-type {\n",
       "        vertical-align: middle;\n",
       "    }\n",
       "\n",
       "    .dataframe tbody tr th {\n",
       "        vertical-align: top;\n",
       "    }\n",
       "\n",
       "    .dataframe thead th {\n",
       "        text-align: right;\n",
       "    }\n",
       "</style>\n",
       "<table border=\"1\" class=\"dataframe\">\n",
       "  <thead>\n",
       "    <tr style=\"text-align: right;\">\n",
       "      <th>age</th>\n",
       "      <th>0</th>\n",
       "      <th>1</th>\n",
       "      <th>2</th>\n",
       "      <th>3</th>\n",
       "      <th>4</th>\n",
       "      <th>5</th>\n",
       "      <th>6</th>\n",
       "      <th>7</th>\n",
       "      <th>8</th>\n",
       "      <th>9</th>\n",
       "      <th>10</th>\n",
       "      <th>11</th>\n",
       "    </tr>\n",
       "    <tr>\n",
       "      <th>first_order_month</th>\n",
       "      <th></th>\n",
       "      <th></th>\n",
       "      <th></th>\n",
       "      <th></th>\n",
       "      <th></th>\n",
       "      <th></th>\n",
       "      <th></th>\n",
       "      <th></th>\n",
       "      <th></th>\n",
       "      <th></th>\n",
       "      <th></th>\n",
       "      <th></th>\n",
       "    </tr>\n",
       "  </thead>\n",
       "  <tbody>\n",
       "    <tr>\n",
       "      <th>2017-06-01</th>\n",
       "      <td>4.25</td>\n",
       "      <td>4.68</td>\n",
       "      <td>5.07</td>\n",
       "      <td>5.93</td>\n",
       "      <td>6.85</td>\n",
       "      <td>7.51</td>\n",
       "      <td>8.37</td>\n",
       "      <td>8.89</td>\n",
       "      <td>9.39</td>\n",
       "      <td>9.93</td>\n",
       "      <td>10.44</td>\n",
       "      <td>10.67</td>\n",
       "    </tr>\n",
       "    <tr>\n",
       "      <th>2017-07-01</th>\n",
       "      <td>5.39</td>\n",
       "      <td>5.69</td>\n",
       "      <td>6.25</td>\n",
       "      <td>6.57</td>\n",
       "      <td>6.73</td>\n",
       "      <td>6.87</td>\n",
       "      <td>6.97</td>\n",
       "      <td>7.1</td>\n",
       "      <td>7.24</td>\n",
       "      <td>7.38</td>\n",
       "      <td>7.52</td>\n",
       "      <td></td>\n",
       "    </tr>\n",
       "    <tr>\n",
       "      <th>2017-08-01</th>\n",
       "      <td>3.80</td>\n",
       "      <td>4.14</td>\n",
       "      <td>4.47</td>\n",
       "      <td>4.75</td>\n",
       "      <td>5.1</td>\n",
       "      <td>5.31</td>\n",
       "      <td>5.46</td>\n",
       "      <td>5.75</td>\n",
       "      <td>5.96</td>\n",
       "      <td>6.1</td>\n",
       "      <td></td>\n",
       "      <td></td>\n",
       "    </tr>\n",
       "    <tr>\n",
       "      <th>2017-09-01</th>\n",
       "      <td>4.85</td>\n",
       "      <td>5.81</td>\n",
       "      <td>6.26</td>\n",
       "      <td>9.67</td>\n",
       "      <td>10.02</td>\n",
       "      <td>10.57</td>\n",
       "      <td>11.18</td>\n",
       "      <td>11.39</td>\n",
       "      <td>11.54</td>\n",
       "      <td></td>\n",
       "      <td></td>\n",
       "      <td></td>\n",
       "    </tr>\n",
       "    <tr>\n",
       "      <th>2017-10-01</th>\n",
       "      <td>4.69</td>\n",
       "      <td>5.19</td>\n",
       "      <td>5.37</td>\n",
       "      <td>5.52</td>\n",
       "      <td>5.66</td>\n",
       "      <td>5.77</td>\n",
       "      <td>5.85</td>\n",
       "      <td>5.96</td>\n",
       "      <td></td>\n",
       "      <td></td>\n",
       "      <td></td>\n",
       "      <td></td>\n",
       "    </tr>\n",
       "    <tr>\n",
       "      <th>2017-11-01</th>\n",
       "      <td>4.30</td>\n",
       "      <td>4.63</td>\n",
       "      <td>4.8</td>\n",
       "      <td>5.07</td>\n",
       "      <td>5.2</td>\n",
       "      <td>5.24</td>\n",
       "      <td>5.34</td>\n",
       "      <td></td>\n",
       "      <td></td>\n",
       "      <td></td>\n",
       "      <td></td>\n",
       "      <td></td>\n",
       "    </tr>\n",
       "    <tr>\n",
       "      <th>2017-12-01</th>\n",
       "      <td>4.44</td>\n",
       "      <td>4.68</td>\n",
       "      <td>5.54</td>\n",
       "      <td>6.54</td>\n",
       "      <td>6.83</td>\n",
       "      <td>7.15</td>\n",
       "      <td></td>\n",
       "      <td></td>\n",
       "      <td></td>\n",
       "      <td></td>\n",
       "      <td></td>\n",
       "      <td></td>\n",
       "    </tr>\n",
       "    <tr>\n",
       "      <th>2018-01-01</th>\n",
       "      <td>3.19</td>\n",
       "      <td>3.42</td>\n",
       "      <td>3.65</td>\n",
       "      <td>3.76</td>\n",
       "      <td>3.81</td>\n",
       "      <td></td>\n",
       "      <td></td>\n",
       "      <td></td>\n",
       "      <td></td>\n",
       "      <td></td>\n",
       "      <td></td>\n",
       "      <td></td>\n",
       "    </tr>\n",
       "    <tr>\n",
       "      <th>2018-02-01</th>\n",
       "      <td>3.44</td>\n",
       "      <td>3.67</td>\n",
       "      <td>3.74</td>\n",
       "      <td>3.8</td>\n",
       "      <td></td>\n",
       "      <td></td>\n",
       "      <td></td>\n",
       "      <td></td>\n",
       "      <td></td>\n",
       "      <td></td>\n",
       "      <td></td>\n",
       "      <td></td>\n",
       "    </tr>\n",
       "    <tr>\n",
       "      <th>2018-03-01</th>\n",
       "      <td>4.52</td>\n",
       "      <td>4.8</td>\n",
       "      <td>5.09</td>\n",
       "      <td></td>\n",
       "      <td></td>\n",
       "      <td></td>\n",
       "      <td></td>\n",
       "      <td></td>\n",
       "      <td></td>\n",
       "      <td></td>\n",
       "      <td></td>\n",
       "      <td></td>\n",
       "    </tr>\n",
       "    <tr>\n",
       "      <th>2018-04-01</th>\n",
       "      <td>3.99</td>\n",
       "      <td>4.45</td>\n",
       "      <td></td>\n",
       "      <td></td>\n",
       "      <td></td>\n",
       "      <td></td>\n",
       "      <td></td>\n",
       "      <td></td>\n",
       "      <td></td>\n",
       "      <td></td>\n",
       "      <td></td>\n",
       "      <td></td>\n",
       "    </tr>\n",
       "    <tr>\n",
       "      <th>2018-05-01</th>\n",
       "      <td>4.74</td>\n",
       "      <td></td>\n",
       "      <td></td>\n",
       "      <td></td>\n",
       "      <td></td>\n",
       "      <td></td>\n",
       "      <td></td>\n",
       "      <td></td>\n",
       "      <td></td>\n",
       "      <td></td>\n",
       "      <td></td>\n",
       "      <td></td>\n",
       "    </tr>\n",
       "  </tbody>\n",
       "</table>\n",
       "</div>"
      ],
      "text/plain": [
       "age                  0     1     2     3      4      5      6      7      8   \\\n",
       "first_order_month                                                              \n",
       "2017-06-01         4.25  4.68  5.07  5.93   6.85   7.51   8.37   8.89   9.39   \n",
       "2017-07-01         5.39  5.69  6.25  6.57   6.73   6.87   6.97    7.1   7.24   \n",
       "2017-08-01         3.80  4.14  4.47  4.75    5.1   5.31   5.46   5.75   5.96   \n",
       "2017-09-01         4.85  5.81  6.26  9.67  10.02  10.57  11.18  11.39  11.54   \n",
       "2017-10-01         4.69  5.19  5.37  5.52   5.66   5.77   5.85   5.96          \n",
       "2017-11-01         4.30  4.63   4.8  5.07    5.2   5.24   5.34                 \n",
       "2017-12-01         4.44  4.68  5.54  6.54   6.83   7.15                        \n",
       "2018-01-01         3.19  3.42  3.65  3.76   3.81                               \n",
       "2018-02-01         3.44  3.67  3.74   3.8                                      \n",
       "2018-03-01         4.52   4.8  5.09                                            \n",
       "2018-04-01         3.99  4.45                                                  \n",
       "2018-05-01         4.74                                                        \n",
       "\n",
       "age                  9      10     11  \n",
       "first_order_month                      \n",
       "2017-06-01         9.93  10.44  10.67  \n",
       "2017-07-01         7.38   7.52         \n",
       "2017-08-01          6.1                \n",
       "2017-09-01                             \n",
       "2017-10-01                             \n",
       "2017-11-01                             \n",
       "2017-12-01                             \n",
       "2018-01-01                             \n",
       "2018-02-01                             \n",
       "2018-03-01                             \n",
       "2018-04-01                             \n",
       "2018-05-01                             "
      ]
     },
     "execution_count": 221,
     "metadata": {},
     "output_type": "execute_result"
    }
   ],
   "source": [
    "#Filter DataFrame by 'source_id'\n",
    "source_1 = report_[report_['source_id'] == 1]\n",
    "\n",
    "#Group by 'first_order_month' and columns = 'age', to obtain 'mean'\n",
    "romi_1 = source_1.pivot_table(\n",
    "    index = 'first_order_month', columns = 'age',\n",
    "    values = 'romi', aggfunc = 'mean'\n",
    ")\n",
    "# Cumulative sum of ROMI by rows (axis=1)\n",
    "romi_1.cumsum(axis=1).round(2).fillna('')"
   ]
  },
  {
   "cell_type": "markdown",
   "metadata": {},
   "source": [
    "Se puede ver que la fuente de adquisición 1 (source_id = 1), recuperó la inversión desde el primer mes (age = 0)."
   ]
  },
  {
   "cell_type": "code",
   "execution_count": 222,
   "metadata": {},
   "outputs": [
    {
     "data": {
      "text/html": [
       "<div>\n",
       "<style scoped>\n",
       "    .dataframe tbody tr th:only-of-type {\n",
       "        vertical-align: middle;\n",
       "    }\n",
       "\n",
       "    .dataframe tbody tr th {\n",
       "        vertical-align: top;\n",
       "    }\n",
       "\n",
       "    .dataframe thead th {\n",
       "        text-align: right;\n",
       "    }\n",
       "</style>\n",
       "<table border=\"1\" class=\"dataframe\">\n",
       "  <thead>\n",
       "    <tr style=\"text-align: right;\">\n",
       "      <th>age</th>\n",
       "      <th>0</th>\n",
       "      <th>1</th>\n",
       "      <th>2</th>\n",
       "      <th>3</th>\n",
       "      <th>4</th>\n",
       "      <th>5</th>\n",
       "      <th>6</th>\n",
       "      <th>7</th>\n",
       "      <th>8</th>\n",
       "      <th>9</th>\n",
       "      <th>10</th>\n",
       "      <th>11</th>\n",
       "    </tr>\n",
       "    <tr>\n",
       "      <th>first_order_month</th>\n",
       "      <th></th>\n",
       "      <th></th>\n",
       "      <th></th>\n",
       "      <th></th>\n",
       "      <th></th>\n",
       "      <th></th>\n",
       "      <th></th>\n",
       "      <th></th>\n",
       "      <th></th>\n",
       "      <th></th>\n",
       "      <th></th>\n",
       "      <th></th>\n",
       "    </tr>\n",
       "  </thead>\n",
       "  <tbody>\n",
       "    <tr>\n",
       "      <th>2017-06-01</th>\n",
       "      <td>0.62</td>\n",
       "      <td>0.68</td>\n",
       "      <td>0.74</td>\n",
       "      <td>0.86</td>\n",
       "      <td>1.0</td>\n",
       "      <td>1.09</td>\n",
       "      <td>1.22</td>\n",
       "      <td>1.29</td>\n",
       "      <td>1.37</td>\n",
       "      <td>1.45</td>\n",
       "      <td>1.52</td>\n",
       "      <td>1.55</td>\n",
       "    </tr>\n",
       "    <tr>\n",
       "      <th>2017-07-01</th>\n",
       "      <td>0.75</td>\n",
       "      <td>0.8</td>\n",
       "      <td>0.87</td>\n",
       "      <td>0.92</td>\n",
       "      <td>0.94</td>\n",
       "      <td>0.96</td>\n",
       "      <td>0.97</td>\n",
       "      <td>0.99</td>\n",
       "      <td>1.01</td>\n",
       "      <td>1.03</td>\n",
       "      <td>1.05</td>\n",
       "      <td></td>\n",
       "    </tr>\n",
       "    <tr>\n",
       "      <th>2017-08-01</th>\n",
       "      <td>0.59</td>\n",
       "      <td>0.64</td>\n",
       "      <td>0.69</td>\n",
       "      <td>0.74</td>\n",
       "      <td>0.79</td>\n",
       "      <td>0.82</td>\n",
       "      <td>0.85</td>\n",
       "      <td>0.89</td>\n",
       "      <td>0.92</td>\n",
       "      <td>0.94</td>\n",
       "      <td></td>\n",
       "      <td></td>\n",
       "    </tr>\n",
       "    <tr>\n",
       "      <th>2017-09-01</th>\n",
       "      <td>0.73</td>\n",
       "      <td>0.88</td>\n",
       "      <td>0.94</td>\n",
       "      <td>1.46</td>\n",
       "      <td>1.51</td>\n",
       "      <td>1.59</td>\n",
       "      <td>1.68</td>\n",
       "      <td>1.72</td>\n",
       "      <td>1.74</td>\n",
       "      <td></td>\n",
       "      <td></td>\n",
       "      <td></td>\n",
       "    </tr>\n",
       "    <tr>\n",
       "      <th>2017-10-01</th>\n",
       "      <td>0.69</td>\n",
       "      <td>0.76</td>\n",
       "      <td>0.79</td>\n",
       "      <td>0.81</td>\n",
       "      <td>0.83</td>\n",
       "      <td>0.85</td>\n",
       "      <td>0.86</td>\n",
       "      <td>0.88</td>\n",
       "      <td></td>\n",
       "      <td></td>\n",
       "      <td></td>\n",
       "      <td></td>\n",
       "    </tr>\n",
       "    <tr>\n",
       "      <th>2017-11-01</th>\n",
       "      <td>0.62</td>\n",
       "      <td>0.67</td>\n",
       "      <td>0.69</td>\n",
       "      <td>0.73</td>\n",
       "      <td>0.75</td>\n",
       "      <td>0.75</td>\n",
       "      <td>0.77</td>\n",
       "      <td></td>\n",
       "      <td></td>\n",
       "      <td></td>\n",
       "      <td></td>\n",
       "      <td></td>\n",
       "    </tr>\n",
       "    <tr>\n",
       "      <th>2017-12-01</th>\n",
       "      <td>0.64</td>\n",
       "      <td>0.68</td>\n",
       "      <td>0.8</td>\n",
       "      <td>0.94</td>\n",
       "      <td>0.99</td>\n",
       "      <td>1.03</td>\n",
       "      <td></td>\n",
       "      <td></td>\n",
       "      <td></td>\n",
       "      <td></td>\n",
       "      <td></td>\n",
       "      <td></td>\n",
       "    </tr>\n",
       "    <tr>\n",
       "      <th>2018-01-01</th>\n",
       "      <td>0.47</td>\n",
       "      <td>0.5</td>\n",
       "      <td>0.54</td>\n",
       "      <td>0.56</td>\n",
       "      <td>0.56</td>\n",
       "      <td></td>\n",
       "      <td></td>\n",
       "      <td></td>\n",
       "      <td></td>\n",
       "      <td></td>\n",
       "      <td></td>\n",
       "      <td></td>\n",
       "    </tr>\n",
       "    <tr>\n",
       "      <th>2018-02-01</th>\n",
       "      <td>0.53</td>\n",
       "      <td>0.57</td>\n",
       "      <td>0.58</td>\n",
       "      <td>0.59</td>\n",
       "      <td></td>\n",
       "      <td></td>\n",
       "      <td></td>\n",
       "      <td></td>\n",
       "      <td></td>\n",
       "      <td></td>\n",
       "      <td></td>\n",
       "      <td></td>\n",
       "    </tr>\n",
       "    <tr>\n",
       "      <th>2018-03-01</th>\n",
       "      <td>0.65</td>\n",
       "      <td>0.69</td>\n",
       "      <td>0.74</td>\n",
       "      <td></td>\n",
       "      <td></td>\n",
       "      <td></td>\n",
       "      <td></td>\n",
       "      <td></td>\n",
       "      <td></td>\n",
       "      <td></td>\n",
       "      <td></td>\n",
       "      <td></td>\n",
       "    </tr>\n",
       "    <tr>\n",
       "      <th>2018-04-01</th>\n",
       "      <td>0.57</td>\n",
       "      <td>0.64</td>\n",
       "      <td></td>\n",
       "      <td></td>\n",
       "      <td></td>\n",
       "      <td></td>\n",
       "      <td></td>\n",
       "      <td></td>\n",
       "      <td></td>\n",
       "      <td></td>\n",
       "      <td></td>\n",
       "      <td></td>\n",
       "    </tr>\n",
       "    <tr>\n",
       "      <th>2018-05-01</th>\n",
       "      <td>0.74</td>\n",
       "      <td></td>\n",
       "      <td></td>\n",
       "      <td></td>\n",
       "      <td></td>\n",
       "      <td></td>\n",
       "      <td></td>\n",
       "      <td></td>\n",
       "      <td></td>\n",
       "      <td></td>\n",
       "      <td></td>\n",
       "      <td></td>\n",
       "    </tr>\n",
       "  </tbody>\n",
       "</table>\n",
       "</div>"
      ],
      "text/plain": [
       "age                  0     1     2     3     4     5     6     7     8     9   \\\n",
       "first_order_month                                                               \n",
       "2017-06-01         0.62  0.68  0.74  0.86   1.0  1.09  1.22  1.29  1.37  1.45   \n",
       "2017-07-01         0.75   0.8  0.87  0.92  0.94  0.96  0.97  0.99  1.01  1.03   \n",
       "2017-08-01         0.59  0.64  0.69  0.74  0.79  0.82  0.85  0.89  0.92  0.94   \n",
       "2017-09-01         0.73  0.88  0.94  1.46  1.51  1.59  1.68  1.72  1.74         \n",
       "2017-10-01         0.69  0.76  0.79  0.81  0.83  0.85  0.86  0.88               \n",
       "2017-11-01         0.62  0.67  0.69  0.73  0.75  0.75  0.77                     \n",
       "2017-12-01         0.64  0.68   0.8  0.94  0.99  1.03                           \n",
       "2018-01-01         0.47   0.5  0.54  0.56  0.56                                 \n",
       "2018-02-01         0.53  0.57  0.58  0.59                                       \n",
       "2018-03-01         0.65  0.69  0.74                                             \n",
       "2018-04-01         0.57  0.64                                                   \n",
       "2018-05-01         0.74                                                         \n",
       "\n",
       "age                  10    11  \n",
       "first_order_month              \n",
       "2017-06-01         1.52  1.55  \n",
       "2017-07-01         1.05        \n",
       "2017-08-01                     \n",
       "2017-09-01                     \n",
       "2017-10-01                     \n",
       "2017-11-01                     \n",
       "2017-12-01                     \n",
       "2018-01-01                     \n",
       "2018-02-01                     \n",
       "2018-03-01                     \n",
       "2018-04-01                     \n",
       "2018-05-01                     "
      ]
     },
     "execution_count": 222,
     "metadata": {},
     "output_type": "execute_result"
    }
   ],
   "source": [
    "#Filter DataFrame by 'source_id'\n",
    "source_3 = report_[report_['source_id'] == 3]\n",
    "\n",
    "#Group by 'first_order_month' and columns = 'age', to obtain 'mean'\n",
    "romi_3 = source_3.pivot_table(\n",
    "    index = 'first_order_month', columns = 'age',\n",
    "    values = 'romi', aggfunc = 'mean'\n",
    ")\n",
    "# Cumulative sum of ROMI by rows (axis=1)\n",
    "romi_3.cumsum(axis=1).round(2).fillna('')"
   ]
  },
  {
   "cell_type": "markdown",
   "metadata": {},
   "source": [
    "Se puede ver que la fuente de adquisición 3 (source_id = 3), recuperó la inversión hasta el noveno mes aproximadamente (age = 8). Finalmente, se muestra el ROMI acumulado promedio de todas las cohortes y de todas las fuentes de adquisición."
   ]
  },
  {
   "cell_type": "code",
   "execution_count": 223,
   "metadata": {},
   "outputs": [
    {
     "data": {
      "text/plain": [
       "age\n",
       "0      5.973284\n",
       "1      6.434150\n",
       "2      6.975904\n",
       "3      7.918670\n",
       "4      8.572451\n",
       "5      9.417840\n",
       "6      9.801649\n",
       "7     10.724196\n",
       "8     11.654281\n",
       "9     10.857499\n",
       "10    12.241304\n",
       "11    15.079917\n",
       "dtype: float64"
      ]
     },
     "execution_count": 223,
     "metadata": {},
     "output_type": "execute_result"
    }
   ],
   "source": [
    "# Mean of cumulative ROMI by rows (axis=1) and by columns (axis=0)\n",
    "rep_romi.cumsum(axis=1).mean(axis=0)"
   ]
  },
  {
   "cell_type": "markdown",
   "metadata": {},
   "source": [
    "Se concluye que las inversiones en marketing fueron rentables, es decir, recuperaron la inversión rapidamente (desde el primer mes)."
   ]
  },
  {
   "cell_type": "markdown",
   "metadata": {},
   "source": [
    "## Aconseja a los expertos de marketing cuánto dinero invertir y dónde"
   ]
  },
  {
   "cell_type": "markdown",
   "metadata": {},
   "source": [
    "Lo más importante es identificar que métricas necesitas para hacer tu análisis, porque al final el analista es quien tomará las desiciones definitivas para implementar mejoras y estrategías para elevar las ventas o el número de potenciales clientes.\n",
    "\n",
    "Con base en lo anterior, se debería usar un poco cada plataforma para determinar cual te parece la mejor respecto a tus necesidades, cúal obtiene más métricas, cúal las muestra mejor (con gráficas o con números), etc.\n",
    "\n",
    "En lo personal, me enfocaría en plataformas que obtienen las métricas de vanidad, porque si tu producto es bueno y se vende, es importante investigar el por qué otros productos no se venden, para ello necesitaremos las métricas de vanidad para determinar por qué los usuarios se van o entran y salen sin comprar.\n",
    "\n",
    "Por último, yo empezaría a usar Google Analytics, Mixpanel y Open Web Analytics, fueron las que me parecieron más claras y fáciles de usar para comenzar."
   ]
  }
 ],
 "metadata": {
  "kernelspec": {
   "display_name": "base",
   "language": "python",
   "name": "python3"
  },
  "language_info": {
   "codemirror_mode": {
    "name": "ipython",
    "version": 3
   },
   "file_extension": ".py",
   "mimetype": "text/x-python",
   "name": "python",
   "nbconvert_exporter": "python",
   "pygments_lexer": "ipython3",
   "version": "3.12.7"
  }
 },
 "nbformat": 4,
 "nbformat_minor": 4
}
